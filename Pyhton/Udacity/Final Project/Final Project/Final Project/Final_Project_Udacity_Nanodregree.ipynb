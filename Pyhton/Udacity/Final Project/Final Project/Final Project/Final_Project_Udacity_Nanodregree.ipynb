{
 "cells": [
  {
   "cell_type": "code",
   "execution_count": 1,
   "metadata": {
    "collapsed": true
   },
   "outputs": [],
   "source": [
    "#Importando livrarias\n",
    "import numpy as np\n",
    "import pandas as pd\n",
    "import matplotlib.pyplot as plt\n",
    "import seaborn as sns\n",
    "from scipy.stats import norm\n",
    "from sklearn.preprocessing import StandardScaler\n",
    "from scipy import stats\n",
    "import warnings\n",
    "warnings.filterwarnings('ignore')\n",
    "%matplotlib inline"
   ]
  },
  {
   "cell_type": "markdown",
   "metadata": {},
   "source": [
    "# Importando os conjuntos de dados"
   ]
  },
  {
   "cell_type": "code",
   "execution_count": 2,
   "metadata": {},
   "outputs": [
    {
     "name": "stdout",
     "output_type": "stream",
     "text": [
      "The train set have 1460 lines and 81 columns\n",
      "The test set have 1459 lines and 80 columns\n"
     ]
    }
   ],
   "source": [
    "def importData():\n",
    "    data_set = pd.read_csv('dataset/train.csv')\n",
    "    submission_set = pd.read_csv('dataset/test.csv')\n",
    "    return (data_set, submission_set)\n",
    "\n",
    "data_set, submission_set= importData()\n",
    "\n",
    "print(\"The train set have %i lines and %i columns\" % data_set.shape)\n",
    "print(\"The test set have %i lines and %i columns\" % submission_set.shape)"
   ]
  },
  {
   "cell_type": "markdown",
   "metadata": {},
   "source": [
    "# Análise Exploratória"
   ]
  },
  {
   "cell_type": "code",
   "execution_count": 3,
   "metadata": {},
   "outputs": [
    {
     "data": {
      "text/plain": [
       "['Id',\n",
       " 'MSSubClass',\n",
       " 'LotFrontage',\n",
       " 'LotArea',\n",
       " 'OverallQual',\n",
       " 'OverallCond',\n",
       " 'YearBuilt',\n",
       " 'YearRemodAdd',\n",
       " 'MasVnrArea',\n",
       " 'BsmtFinSF1',\n",
       " 'BsmtFinSF2',\n",
       " 'BsmtUnfSF',\n",
       " 'TotalBsmtSF',\n",
       " '1stFlrSF',\n",
       " '2ndFlrSF',\n",
       " 'LowQualFinSF',\n",
       " 'GrLivArea',\n",
       " 'BsmtFullBath',\n",
       " 'BsmtHalfBath',\n",
       " 'FullBath',\n",
       " 'HalfBath',\n",
       " 'BedroomAbvGr',\n",
       " 'KitchenAbvGr',\n",
       " 'TotRmsAbvGrd',\n",
       " 'Fireplaces',\n",
       " 'GarageYrBlt',\n",
       " 'GarageCars',\n",
       " 'GarageArea',\n",
       " 'WoodDeckSF',\n",
       " 'OpenPorchSF',\n",
       " 'EnclosedPorch',\n",
       " '3SsnPorch',\n",
       " 'ScreenPorch',\n",
       " 'PoolArea',\n",
       " 'MiscVal',\n",
       " 'MoSold',\n",
       " 'YrSold',\n",
       " 'SalePrice']"
      ]
     },
     "execution_count": 3,
     "metadata": {},
     "output_type": "execute_result"
    }
   ],
   "source": [
    "numerics = ['int16', 'int32', 'int64', 'float16', 'float32', 'float64']\n",
    "num_features = data_set.select_dtypes(include=numerics)\n",
    "list(num_features)"
   ]
  },
  {
   "cell_type": "code",
   "execution_count": 4,
   "metadata": {},
   "outputs": [
    {
     "data": {
      "text/plain": [
       "['MSZoning',\n",
       " 'Street',\n",
       " 'Alley',\n",
       " 'LotShape',\n",
       " 'LandContour',\n",
       " 'Utilities',\n",
       " 'LotConfig',\n",
       " 'LandSlope',\n",
       " 'Neighborhood',\n",
       " 'Condition1',\n",
       " 'Condition2',\n",
       " 'BldgType',\n",
       " 'HouseStyle',\n",
       " 'RoofStyle',\n",
       " 'RoofMatl',\n",
       " 'Exterior1st',\n",
       " 'Exterior2nd',\n",
       " 'MasVnrType',\n",
       " 'ExterQual',\n",
       " 'ExterCond',\n",
       " 'Foundation',\n",
       " 'BsmtQual',\n",
       " 'BsmtCond',\n",
       " 'BsmtExposure',\n",
       " 'BsmtFinType1',\n",
       " 'BsmtFinType2',\n",
       " 'Heating',\n",
       " 'HeatingQC',\n",
       " 'CentralAir',\n",
       " 'Electrical',\n",
       " 'KitchenQual',\n",
       " 'Functional',\n",
       " 'FireplaceQu',\n",
       " 'GarageType',\n",
       " 'GarageFinish',\n",
       " 'GarageQual',\n",
       " 'GarageCond',\n",
       " 'PavedDrive',\n",
       " 'PoolQC',\n",
       " 'Fence',\n",
       " 'MiscFeature',\n",
       " 'SaleType',\n",
       " 'SaleCondition']"
      ]
     },
     "execution_count": 4,
     "metadata": {},
     "output_type": "execute_result"
    }
   ],
   "source": [
    "categorical = ['object']\n",
    "cat_features = data_set.select_dtypes(include=categorical)\n",
    "list(cat_features)"
   ]
  },
  {
   "cell_type": "code",
   "execution_count": 5,
   "metadata": {
    "scrolled": true
   },
   "outputs": [
    {
     "name": "stdout",
     "output_type": "stream",
     "text": [
      "<class 'pandas.core.frame.DataFrame'>\n",
      "RangeIndex: 1460 entries, 0 to 1459\n",
      "Data columns (total 81 columns):\n",
      "Id               1460 non-null int64\n",
      "MSSubClass       1460 non-null int64\n",
      "MSZoning         1460 non-null object\n",
      "LotFrontage      1201 non-null float64\n",
      "LotArea          1460 non-null int64\n",
      "Street           1460 non-null object\n",
      "Alley            91 non-null object\n",
      "LotShape         1460 non-null object\n",
      "LandContour      1460 non-null object\n",
      "Utilities        1460 non-null object\n",
      "LotConfig        1460 non-null object\n",
      "LandSlope        1460 non-null object\n",
      "Neighborhood     1460 non-null object\n",
      "Condition1       1460 non-null object\n",
      "Condition2       1460 non-null object\n",
      "BldgType         1460 non-null object\n",
      "HouseStyle       1460 non-null object\n",
      "OverallQual      1460 non-null int64\n",
      "OverallCond      1460 non-null int64\n",
      "YearBuilt        1460 non-null int64\n",
      "YearRemodAdd     1460 non-null int64\n",
      "RoofStyle        1460 non-null object\n",
      "RoofMatl         1460 non-null object\n",
      "Exterior1st      1460 non-null object\n",
      "Exterior2nd      1460 non-null object\n",
      "MasVnrType       1452 non-null object\n",
      "MasVnrArea       1452 non-null float64\n",
      "ExterQual        1460 non-null object\n",
      "ExterCond        1460 non-null object\n",
      "Foundation       1460 non-null object\n",
      "BsmtQual         1423 non-null object\n",
      "BsmtCond         1423 non-null object\n",
      "BsmtExposure     1422 non-null object\n",
      "BsmtFinType1     1423 non-null object\n",
      "BsmtFinSF1       1460 non-null int64\n",
      "BsmtFinType2     1422 non-null object\n",
      "BsmtFinSF2       1460 non-null int64\n",
      "BsmtUnfSF        1460 non-null int64\n",
      "TotalBsmtSF      1460 non-null int64\n",
      "Heating          1460 non-null object\n",
      "HeatingQC        1460 non-null object\n",
      "CentralAir       1460 non-null object\n",
      "Electrical       1459 non-null object\n",
      "1stFlrSF         1460 non-null int64\n",
      "2ndFlrSF         1460 non-null int64\n",
      "LowQualFinSF     1460 non-null int64\n",
      "GrLivArea        1460 non-null int64\n",
      "BsmtFullBath     1460 non-null int64\n",
      "BsmtHalfBath     1460 non-null int64\n",
      "FullBath         1460 non-null int64\n",
      "HalfBath         1460 non-null int64\n",
      "BedroomAbvGr     1460 non-null int64\n",
      "KitchenAbvGr     1460 non-null int64\n",
      "KitchenQual      1460 non-null object\n",
      "TotRmsAbvGrd     1460 non-null int64\n",
      "Functional       1460 non-null object\n",
      "Fireplaces       1460 non-null int64\n",
      "FireplaceQu      770 non-null object\n",
      "GarageType       1379 non-null object\n",
      "GarageYrBlt      1379 non-null float64\n",
      "GarageFinish     1379 non-null object\n",
      "GarageCars       1460 non-null int64\n",
      "GarageArea       1460 non-null int64\n",
      "GarageQual       1379 non-null object\n",
      "GarageCond       1379 non-null object\n",
      "PavedDrive       1460 non-null object\n",
      "WoodDeckSF       1460 non-null int64\n",
      "OpenPorchSF      1460 non-null int64\n",
      "EnclosedPorch    1460 non-null int64\n",
      "3SsnPorch        1460 non-null int64\n",
      "ScreenPorch      1460 non-null int64\n",
      "PoolArea         1460 non-null int64\n",
      "PoolQC           7 non-null object\n",
      "Fence            281 non-null object\n",
      "MiscFeature      54 non-null object\n",
      "MiscVal          1460 non-null int64\n",
      "MoSold           1460 non-null int64\n",
      "YrSold           1460 non-null int64\n",
      "SaleType         1460 non-null object\n",
      "SaleCondition    1460 non-null object\n",
      "SalePrice        1460 non-null int64\n",
      "dtypes: float64(3), int64(35), object(43)\n",
      "memory usage: 924.0+ KB\n"
     ]
    }
   ],
   "source": [
    "#Checando as colunas\n",
    "data_set.info()"
   ]
  },
  {
   "cell_type": "code",
   "execution_count": 6,
   "metadata": {
    "collapsed": true
   },
   "outputs": [],
   "source": [
    "#Checando histogramas\n",
    "#data_set.hist(bins=50, figsize=(40,40))\n",
    "#plt.show()"
   ]
  },
  {
   "cell_type": "code",
   "execution_count": 7,
   "metadata": {},
   "outputs": [
    {
     "data": {
      "text/plain": [
       "count      1460.000000\n",
       "mean     180921.195890\n",
       "std       79442.502883\n",
       "min       34900.000000\n",
       "25%      129975.000000\n",
       "50%      163000.000000\n",
       "75%      214000.000000\n",
       "max      755000.000000\n",
       "Name: SalePrice, dtype: float64"
      ]
     },
     "execution_count": 7,
     "metadata": {},
     "output_type": "execute_result"
    }
   ],
   "source": [
    "#Verificando algumas caracteristicas do nosso target\n",
    "data_set['SalePrice'].describe()"
   ]
  },
  {
   "cell_type": "code",
   "execution_count": 8,
   "metadata": {
    "scrolled": true
   },
   "outputs": [
    {
     "data": {
      "image/png": "[encoded data removed]",
      "text/plain": [
       "<matplotlib.figure.Figure at 0x257f7e4aba8>"
      ]
     },
     "metadata": {},
     "output_type": "display_data"
    }
   ],
   "source": [
    "#Verificando a distribuição normal do nosso target (SalePrice)\n",
    "sns.distplot(data_set['SalePrice']);"
   ]
  },
  {
   "cell_type": "markdown",
   "metadata": {},
   "source": [
    "Verificando a obliquidade (Skewness)\n",
    "- Se Skewness>0, então a distribuição tem uma cauda direita (valores acima da média) mais pesada\n",
    "- Se Skewness<0, então a distribuição tem uma cauda esquerda (valores abaixo da média) mais pesada\n",
    "- Se Skewness=0, então a distribuição é aproximadamente simétrica (na terceira potência do desvio em relação à média).\n",
    "\n",
    "Verificado a curtose (Kurtosis) ou achatamento da distribuição normal\n",
    "- Se o valor da curtose for = 0, então tem o mesmo achatamento que a distribuição normal. Chama-se a estas funções de mesocúrticas.\n",
    "- Se o valor é > 0, então a distribuição em questão é mais alta (afunilada) e concentrada que a distribuição normal. Diz-se que esta função probabilidade é leptocúrtica, ou que a distribuição tem caudas pesadas (o significado é que é relativamente fácil obter valores que não se aproximam da média a vários múltiplos do desvio padrão)\n",
    "- Se o valor é < 0, então a função de distribuição é mais \"achatada\" que a distribuição normal. Chama-se-lhe platicúrtica"
   ]
  },
  {
   "cell_type": "code",
   "execution_count": 9,
   "metadata": {},
   "outputs": [
    {
     "name": "stdout",
     "output_type": "stream",
     "text": [
      "Skewness: 1.882876\n",
      "Kurtosis: 6.536282\n"
     ]
    }
   ],
   "source": [
    "print(\"Skewness: %f\" % data_set['SalePrice'].skew())\n",
    "print(\"Kurtosis: %f\" % data_set['SalePrice'].kurt())"
   ]
  },
  {
   "cell_type": "markdown",
   "metadata": {},
   "source": [
    "Então neste caso temos uma função probabilidade de calda longa e leptocúrtica\n",
    "\n",
    "Como os modelos de regressão lineares tendem a funcionar melhor com uma maior normalidade iremos lider com uma transformação do SalePrice"
   ]
  },
  {
   "cell_type": "code",
   "execution_count": 10,
   "metadata": {},
   "outputs": [
    {
     "data": {
      "image/png": "[encoded data removed]",
      "text/plain": [
       "<matplotlib.figure.Figure at 0x257f7d50358>"
      ]
     },
     "metadata": {},
     "output_type": "display_data"
    },
    {
     "data": {
      "image/png": "[encoded data removed]",
      "text/plain": [
       "<matplotlib.figure.Figure at 0x257f7d509b0>"
      ]
     },
     "metadata": {},
     "output_type": "display_data"
    }
   ],
   "source": [
    "#Histograma vs. curva normal\n",
    "sns.distplot(data_set['SalePrice'], fit=norm).set_title('Histograma vs. curva normal');\n",
    "fig = plt.figure()\n",
    "#Probabilidade normal\n",
    "res = stats.probplot(data_set['SalePrice'], plot=plt)"
   ]
  },
  {
   "cell_type": "code",
   "execution_count": 11,
   "metadata": {
    "collapsed": true
   },
   "outputs": [],
   "source": [
    "#Transformação log no SalePrice\n",
    "data_set['SalePrice'] = np.log(data_set['SalePrice'])"
   ]
  },
  {
   "cell_type": "code",
   "execution_count": 12,
   "metadata": {},
   "outputs": [
    {
     "data": {
      "image/png": "[encoded data removed]",
      "text/plain": [
       "<matplotlib.figure.Figure at 0x257f7bc1e10>"
      ]
     },
     "metadata": {},
     "output_type": "display_data"
    },
    {
     "data": {
      "image/png": "[encoded data removed]",
      "text/plain": [
       "<matplotlib.figure.Figure at 0x257f7bc1e80>"
      ]
     },
     "metadata": {},
     "output_type": "display_data"
    }
   ],
   "source": [
    "#Histograma vs. curva normal\n",
    "sns.distplot(data_set['SalePrice'], fit=norm).set_title('Histograma vs. curva normal');\n",
    "fig = plt.figure()\n",
    "#Probabilidade normal\n",
    "res = stats.probplot(data_set['SalePrice'], plot=plt)"
   ]
  },
  {
   "cell_type": "code",
   "execution_count": 13,
   "metadata": {},
   "outputs": [
    {
     "name": "stdout",
     "output_type": "stream",
     "text": [
      "Skewness: 0.121335\n",
      "Kurtosis: 0.809532\n"
     ]
    }
   ],
   "source": [
    "print(\"Skewness: %f\" % data_set['SalePrice'].skew())\n",
    "print(\"Kurtosis: %f\" % data_set['SalePrice'].kurt())"
   ]
  },
  {
   "cell_type": "code",
   "execution_count": null,
   "metadata": {
    "collapsed": true
   },
   "outputs": [],
   "source": []
  },
  {
   "cell_type": "code",
   "execution_count": 14,
   "metadata": {},
   "outputs": [
    {
     "data": {
      "image/png": "[encoded data removed]",
      "text/plain": [
       "<matplotlib.figure.Figure at 0x257fa71c128>"
      ]
     },
     "metadata": {},
     "output_type": "display_data"
    }
   ],
   "source": [
    "#Checking the correlation matrix\n",
    "matrizcorrelacao = data_set.corr()\n",
    "f, ax = plt.subplots(figsize=(12, 9))\n",
    "sns.heatmap(matrizcorrelacao, vmax=0.9, square=True);"
   ]
  },
  {
   "cell_type": "code",
   "execution_count": 15,
   "metadata": {},
   "outputs": [
    {
     "data": {
      "image/png": "[encoded data removed]",
      "text/plain": [
       "<matplotlib.figure.Figure at 0x257fa8674a8>"
      ]
     },
     "metadata": {},
     "output_type": "display_data"
    }
   ],
   "source": [
    "#Check the graphic again\n",
    "fig, ax = plt.subplots()\n",
    "ax.scatter(data_set['GrLivArea'], data_set['SalePrice'])\n",
    "plt.ylabel('SalePrice', fontsize=13)\n",
    "plt.xlabel('GrLivArea', fontsize=13)\n",
    "plt.show()"
   ]
  },
  {
   "cell_type": "code",
   "execution_count": 16,
   "metadata": {
    "collapsed": true
   },
   "outputs": [],
   "source": [
    "#Deletando outliers\n",
    "data_set = data_set.drop(data_set[(data_set['GrLivArea']>4000) & (data_set['SalePrice']>11.5)].index)\n",
    "data_set = data_set.drop(data_set[(data_set['SalePrice']<10.7)].index)"
   ]
  },
  {
   "cell_type": "code",
   "execution_count": 17,
   "metadata": {},
   "outputs": [
    {
     "data": {
      "image/png": "[encoded data removed]",
      "text/plain": [
       "<matplotlib.figure.Figure at 0x257f7bf1048>"
      ]
     },
     "metadata": {},
     "output_type": "display_data"
    }
   ],
   "source": [
    "#Check the graphic again\n",
    "fig, ax = plt.subplots()\n",
    "ax.scatter(data_set['GrLivArea'], np.exp(data_set['SalePrice']))\n",
    "plt.ylabel('SalePrice', fontsize=15)\n",
    "plt.xlabel('GrLivArea', fontsize=15)\n",
    "plt.show()"
   ]
  },
  {
   "cell_type": "code",
   "execution_count": 18,
   "metadata": {},
   "outputs": [
    {
     "data": {
      "image/png": "[encoded data removed]",
      "text/plain": [
       "<matplotlib.figure.Figure at 0x257fa429a90>"
      ]
     },
     "metadata": {},
     "output_type": "display_data"
    }
   ],
   "source": [
    "#Check the graphic again\n",
    "fig, ax = plt.subplots()\n",
    "ax.scatter(data_set['OverallQual'], np.exp(data_set['SalePrice']))\n",
    "plt.ylabel('SalePrice', fontsize=15)\n",
    "plt.xlabel('OverallQual', fontsize=15)\n",
    "plt.show()"
   ]
  },
  {
   "cell_type": "code",
   "execution_count": 19,
   "metadata": {},
   "outputs": [
    {
     "data": {
      "image/png": "[encoded data removed]",
      "text/plain": [
       "<matplotlib.figure.Figure at 0x257fa2cf4e0>"
      ]
     },
     "metadata": {},
     "output_type": "display_data"
    }
   ],
   "source": [
    "#Check the graphic again\n",
    "fig, ax = plt.subplots()\n",
    "ax.scatter(data_set['EnclosedPorch'], np.exp(data_set['SalePrice']))\n",
    "plt.ylabel('SalePrice', fontsize=15)\n",
    "plt.xlabel('EnclosedPorch', fontsize=15)\n",
    "plt.show()"
   ]
  },
  {
   "cell_type": "code",
   "execution_count": 20,
   "metadata": {
    "collapsed": true
   },
   "outputs": [],
   "source": [
    "# Simple Linear Regression\n",
    "# Importing the dataset\n",
    "X = (data_set['GrLivArea'].values).reshape(-1,1)\n",
    "y = np.exp(data_set['SalePrice']).reshape(-1,1)"
   ]
  },
  {
   "cell_type": "code",
   "execution_count": 21,
   "metadata": {},
   "outputs": [
    {
     "data": {
      "image/png": "[encoded data removed]",
      "text/plain": [
       "<matplotlib.figure.Figure at 0x257fa4755f8>"
      ]
     },
     "metadata": {},
     "output_type": "display_data"
    }
   ],
   "source": [
    "# Fitting Simple Linear Regression to the Training set\n",
    "from sklearn.linear_model import LinearRegression\n",
    "regressor = LinearRegression()\n",
    "regressor.fit(X, y)\n",
    "# Visualising the Training set results\n",
    "plt.scatter(X[:,0], y, color = 'red')\n",
    "plt.plot(X, regressor.predict(X), color = 'blue')\n",
    "plt.title('Linear Regression')\n",
    "plt.xlabel('GrLivArea')\n",
    "plt.ylabel('SalePrice')\n",
    "plt.show()"
   ]
  },
  {
   "cell_type": "code",
   "execution_count": 22,
   "metadata": {},
   "outputs": [
    {
     "data": {
      "image/png": "[encoded data removed]",
      "text/plain": [
       "<matplotlib.figure.Figure at 0x257fa2a8400>"
      ]
     },
     "metadata": {},
     "output_type": "display_data"
    }
   ],
   "source": [
    "# Fitting Linear Regression to the dataset\n",
    "from sklearn.linear_model import LinearRegression\n",
    "lin_reg = LinearRegression()\n",
    "lin_reg.fit(X, y)\n",
    "\n",
    "# Fitting Polynomial Regression to the dataset\n",
    "from sklearn.preprocessing import PolynomialFeatures\n",
    "poly_reg = PolynomialFeatures(degree = 4)\n",
    "X_poly = poly_reg.fit_transform(X)\n",
    "poly_reg.fit(X_poly, y)\n",
    "lin_reg_2 = LinearRegression()\n",
    "lin_reg_2.fit(X_poly, y)\n",
    "\n",
    "# Visualising the Polynomial Regression results (for higher resolution and smoother curve)\n",
    "X_grid = np.arange(min(X), max(X), 0.1)\n",
    "X_grid = X_grid.reshape((len(X_grid), 1))\n",
    "plt.scatter(X, y, color = 'red')\n",
    "plt.plot(X_grid, lin_reg_2.predict(poly_reg.fit_transform(X_grid)), color = 'blue')\n",
    "plt.title('Polynomial Regression')\n",
    "plt.xlabel('GrLivArea')\n",
    "plt.ylabel('SalePrice')\n",
    "plt.show()"
   ]
  },
  {
   "cell_type": "code",
   "execution_count": 23,
   "metadata": {},
   "outputs": [
    {
     "data": {
      "image/png": "[encoded data removed]",
      "text/plain": [
       "<matplotlib.figure.Figure at 0x257fa8eb320>"
      ]
     },
     "metadata": {},
     "output_type": "display_data"
    }
   ],
   "source": [
    "# Feature Scaling\n",
    "from sklearn.preprocessing import StandardScaler\n",
    "sc_X = StandardScaler()\n",
    "sc_y = StandardScaler()\n",
    "X_scaled = sc_X.fit_transform(X)\n",
    "y_scaled = sc_y.fit_transform(y)\n",
    "\n",
    "# Fitting SVR to the dataset\n",
    "from sklearn.svm import SVR\n",
    "regressor = SVR(kernel = 'rbf')\n",
    "regressor.fit(X_scaled, y_scaled)\n",
    "\n",
    "# Predicting a new result\n",
    "y_pred = regressor.predict(6.5)\n",
    "y_pred = sc_y.inverse_transform(y_pred)\n",
    "\n",
    "# Visualising the SVR results (for higher resolution and smoother curve)\n",
    "X_grid = np.arange(min(X_scaled), max(X_scaled), 0.1)\n",
    "X_grid = X_grid.reshape((len(X_grid), 1))\n",
    "plt.scatter(X_scaled, y_scaled, color = 'red')\n",
    "plt.plot(X_grid, regressor.predict(X_grid), color = 'blue')\n",
    "plt.title('SVR')\n",
    "plt.xlabel('GrLivArea')\n",
    "plt.ylabel('SalePrice')\n",
    "plt.show()"
   ]
  },
  {
   "cell_type": "code",
   "execution_count": 24,
   "metadata": {},
   "outputs": [
    {
     "data": {
      "image/png": "[encoded data removed]",
      "text/plain": [
       "<matplotlib.figure.Figure at 0x257fa60a160>"
      ]
     },
     "metadata": {},
     "output_type": "display_data"
    }
   ],
   "source": [
    "# Feature Scaling\n",
    "from sklearn.preprocessing import StandardScaler\n",
    "sc_X = StandardScaler()\n",
    "sc_y = StandardScaler()\n",
    "X_scaled = sc_X.fit_transform(X)\n",
    "y_scaled = sc_y.fit_transform(y)\n",
    "\n",
    "# Fitting SVR to the dataset\n",
    "from sklearn.linear_model import SGDRegressor\n",
    "regressor = SGDRegressor()\n",
    "regressor.fit(X_scaled, y_scaled)\n",
    "\n",
    "# Predicting a new result\n",
    "y_pred = regressor.predict(6.5)\n",
    "y_pred = sc_y.inverse_transform(y_pred)\n",
    "\n",
    "# Visualising the SVR results (for higher resolution and smoother curve)\n",
    "X_grid = np.arange(min(X_scaled), max(X_scaled), 0.1)\n",
    "X_grid = X_grid.reshape((len(X_grid), 1))\n",
    "plt.scatter(X_scaled, y_scaled, color = 'red')\n",
    "plt.plot(X_grid, regressor.predict(X_grid), color = 'blue')\n",
    "plt.title('SGDRegressor')\n",
    "plt.xlabel('GrLivArea')\n",
    "plt.ylabel('SalePrice')\n",
    "plt.show()"
   ]
  },
  {
   "cell_type": "code",
   "execution_count": 25,
   "metadata": {},
   "outputs": [
    {
     "data": {
      "image/png": "[encoded data removed]",
      "text/plain": [
       "<matplotlib.figure.Figure at 0x257fa247eb8>"
      ]
     },
     "metadata": {},
     "output_type": "display_data"
    }
   ],
   "source": [
    "# Fitting Simple Linear Regression to the Training set\n",
    "from sklearn.tree import DecisionTreeRegressor\n",
    "regressor = DecisionTreeRegressor()\n",
    "regressor.fit(X, y)\n",
    "\n",
    "# Visualising the Decision Tree Regression results (higher resolution)\n",
    "X_grid = np.arange(min(X), max(X), 600)\n",
    "X_grid = X_grid.reshape((len(X_grid), 1))\n",
    "plt.scatter(X, y, color = 'red')\n",
    "plt.plot(X_grid, regressor.predict(X_grid), color = 'blue')\n",
    "plt.title('Decision Tree Regression')\n",
    "plt.xlabel('GrLivArea')\n",
    "plt.ylabel('SalePrice')\n",
    "plt.show()"
   ]
  },
  {
   "cell_type": "code",
   "execution_count": 26,
   "metadata": {},
   "outputs": [
    {
     "data": {
      "image/png": "[encoded data removed]",
      "text/plain": [
       "<matplotlib.figure.Figure at 0x257fa280e80>"
      ]
     },
     "metadata": {},
     "output_type": "display_data"
    }
   ],
   "source": [
    "# Fitting Simple Linear Regression to the Training set\n",
    "from sklearn.ensemble import GradientBoostingRegressor\n",
    "regressor = GradientBoostingRegressor()\n",
    "regressor.fit(X, y)\n",
    "\n",
    "# Visualising the Decision Tree Regression results (higher resolution)\n",
    "X_grid = np.arange(min(X), max(X), 700)\n",
    "X_grid = X_grid.reshape((len(X_grid), 1))\n",
    "plt.scatter(X, y, color = 'red')\n",
    "plt.plot(X_grid, regressor.predict(X_grid), color = 'blue')\n",
    "plt.title('GradientBoostingRegressor')\n",
    "plt.xlabel('GrLivArea')\n",
    "plt.ylabel('SalePrice')\n",
    "plt.show()"
   ]
  },
  {
   "cell_type": "markdown",
   "metadata": {},
   "source": [
    "# Pré-processamento"
   ]
  },
  {
   "cell_type": "code",
   "execution_count": 27,
   "metadata": {},
   "outputs": [
    {
     "name": "stdout",
     "output_type": "stream",
     "text": [
      "The train set have 1451 lines and 81 columns\n",
      "The test set have 1459 lines and 81 columns\n",
      "The total set have 2910 lines and 82 columns\n"
     ]
    }
   ],
   "source": [
    "#Adding an empty sales price column in the test data\n",
    "submission_set[\"SalePrice\"] = \"\"\n",
    "submission_set[\"SalePrice\"] = np.nan\n",
    "print(\"The train set have %i lines and %i columns\" % data_set.shape)\n",
    "print(\"The test set have %i lines and %i columns\" % submission_set.shape)\n",
    "\n",
    "#Concating the train and test data\n",
    "total_data = pd.concat([data_set, submission_set])\n",
    "total_data=total_data.reset_index()\n",
    "print(\"The total set have %i lines and %i columns\" % total_data.shape)\n",
    "\n",
    "#Saving the data into a csv file\n",
    "total_data.to_csv(\"total_data.csv\", sep=',')"
   ]
  },
  {
   "cell_type": "markdown",
   "metadata": {},
   "source": [
    "Observamos que as variaveis index e Id não são features, e sim apenas identificadores por isso vamos removelas do conjunto de dados"
   ]
  },
  {
   "cell_type": "code",
   "execution_count": 28,
   "metadata": {},
   "outputs": [
    {
     "data": {
      "text/html": [
       "<div>\n",
       "<style>\n",
       "    .dataframe thead tr:only-child th {\n",
       "        text-align: right;\n",
       "    }\n",
       "\n",
       "    .dataframe thead th {\n",
       "        text-align: left;\n",
       "    }\n",
       "\n",
       "    .dataframe tbody tr th {\n",
       "        vertical-align: top;\n",
       "    }\n",
       "</style>\n",
       "<table border=\"1\" class=\"dataframe\">\n",
       "  <thead>\n",
       "    <tr style=\"text-align: right;\">\n",
       "      <th></th>\n",
       "      <th>index</th>\n",
       "      <th>Id</th>\n",
       "      <th>MSSubClass</th>\n",
       "      <th>MSZoning</th>\n",
       "      <th>LotFrontage</th>\n",
       "      <th>LotArea</th>\n",
       "      <th>Street</th>\n",
       "      <th>Alley</th>\n",
       "      <th>LotShape</th>\n",
       "      <th>LandContour</th>\n",
       "      <th>...</th>\n",
       "      <th>PoolArea</th>\n",
       "      <th>PoolQC</th>\n",
       "      <th>Fence</th>\n",
       "      <th>MiscFeature</th>\n",
       "      <th>MiscVal</th>\n",
       "      <th>MoSold</th>\n",
       "      <th>YrSold</th>\n",
       "      <th>SaleType</th>\n",
       "      <th>SaleCondition</th>\n",
       "      <th>SalePrice</th>\n",
       "    </tr>\n",
       "  </thead>\n",
       "  <tbody>\n",
       "    <tr>\n",
       "      <th>0</th>\n",
       "      <td>0</td>\n",
       "      <td>1</td>\n",
       "      <td>60</td>\n",
       "      <td>RL</td>\n",
       "      <td>65.0</td>\n",
       "      <td>8450</td>\n",
       "      <td>Pave</td>\n",
       "      <td>NaN</td>\n",
       "      <td>Reg</td>\n",
       "      <td>Lvl</td>\n",
       "      <td>...</td>\n",
       "      <td>0</td>\n",
       "      <td>NaN</td>\n",
       "      <td>NaN</td>\n",
       "      <td>NaN</td>\n",
       "      <td>0</td>\n",
       "      <td>2</td>\n",
       "      <td>2008</td>\n",
       "      <td>WD</td>\n",
       "      <td>Normal</td>\n",
       "      <td>12.247694</td>\n",
       "    </tr>\n",
       "    <tr>\n",
       "      <th>1</th>\n",
       "      <td>1</td>\n",
       "      <td>2</td>\n",
       "      <td>20</td>\n",
       "      <td>RL</td>\n",
       "      <td>80.0</td>\n",
       "      <td>9600</td>\n",
       "      <td>Pave</td>\n",
       "      <td>NaN</td>\n",
       "      <td>Reg</td>\n",
       "      <td>Lvl</td>\n",
       "      <td>...</td>\n",
       "      <td>0</td>\n",
       "      <td>NaN</td>\n",
       "      <td>NaN</td>\n",
       "      <td>NaN</td>\n",
       "      <td>0</td>\n",
       "      <td>5</td>\n",
       "      <td>2007</td>\n",
       "      <td>WD</td>\n",
       "      <td>Normal</td>\n",
       "      <td>12.109011</td>\n",
       "    </tr>\n",
       "  </tbody>\n",
       "</table>\n",
       "<p>2 rows × 82 columns</p>\n",
       "</div>"
      ],
      "text/plain": [
       "   index  Id  MSSubClass MSZoning  LotFrontage  LotArea Street Alley LotShape  \\\n",
       "0      0   1          60       RL         65.0     8450   Pave   NaN      Reg   \n",
       "1      1   2          20       RL         80.0     9600   Pave   NaN      Reg   \n",
       "\n",
       "  LandContour    ...     PoolArea PoolQC Fence MiscFeature MiscVal MoSold  \\\n",
       "0         Lvl    ...            0    NaN   NaN         NaN       0      2   \n",
       "1         Lvl    ...            0    NaN   NaN         NaN       0      5   \n",
       "\n",
       "  YrSold SaleType  SaleCondition  SalePrice  \n",
       "0   2008       WD         Normal  12.247694  \n",
       "1   2007       WD         Normal  12.109011  \n",
       "\n",
       "[2 rows x 82 columns]"
      ]
     },
     "execution_count": 28,
     "metadata": {},
     "output_type": "execute_result"
    }
   ],
   "source": [
    "total_data.head(2)"
   ]
  },
  {
   "cell_type": "code",
   "execution_count": 29,
   "metadata": {
    "collapsed": true
   },
   "outputs": [],
   "source": [
    "#Removendo coluna de Id e Index, esta coluna atrapalharia em nosso modelo futuro\n",
    "total_data = total_data.drop(\"Id\", axis=1)\n",
    "total_data = total_data.drop(\"index\", axis=1)"
   ]
  },
  {
   "cell_type": "markdown",
   "metadata": {},
   "source": [
    "### Análise de dados fatantes"
   ]
  },
  {
   "cell_type": "code",
   "execution_count": 30,
   "metadata": {},
   "outputs": [
    {
     "name": "stdout",
     "output_type": "stream",
     "text": [
      "              Total   Percent\n",
      "PoolQC         2902  0.997251\n",
      "MiscFeature    2805  0.963918\n",
      "Alley          2713  0.932302\n",
      "Fence          2343  0.805155\n",
      "SalePrice      1459  0.501375\n",
      "FireplaceQu    1415  0.486254\n",
      "LotFrontage     486  0.167010\n",
      "GarageCond      156  0.053608\n",
      "GarageYrBlt     156  0.053608\n",
      "GarageQual      156  0.053608\n",
      "GarageFinish    156  0.053608\n",
      "GarageType      154  0.052921\n",
      "BsmtCond         81  0.027835\n",
      "BsmtExposure     81  0.027835\n",
      "BsmtQual         80  0.027491\n",
      "BsmtFinType2     79  0.027148\n",
      "BsmtFinType1     78  0.026804\n",
      "MasVnrType       24  0.008247\n",
      "MasVnrArea       23  0.007904\n",
      "MSZoning          4  0.001375\n",
      "Utilities         2  0.000687\n",
      "Functional        2  0.000687\n",
      "BsmtFullBath      2  0.000687\n",
      "BsmtHalfBath      2  0.000687\n",
      "GarageCars        1  0.000344\n",
      "BsmtFinSF2        1  0.000344\n",
      "Exterior2nd       1  0.000344\n",
      "GarageArea        1  0.000344\n",
      "TotalBsmtSF       1  0.000344\n",
      "BsmtUnfSF         1  0.000344\n",
      "BsmtFinSF1        1  0.000344\n",
      "Exterior1st       1  0.000344\n",
      "KitchenQual       1  0.000344\n",
      "SaleType          1  0.000344\n",
      "Electrical        1  0.000344\n",
      "LandContour       0  0.000000\n",
      "LotShape          0  0.000000\n",
      "Street            0  0.000000\n",
      "LotArea           0  0.000000\n",
      "YearRemodAdd      0  0.000000\n"
     ]
    }
   ],
   "source": [
    "#missing data\n",
    "set_analysed = total_data\n",
    "total = set_analysed.isnull().sum().sort_values(ascending=False)\n",
    "percent = (set_analysed.isnull().sum()/set_analysed.isnull().count()).sort_values(ascending=False)\n",
    "missing_data = pd.concat([total, percent], axis=1, keys=['Total', 'Percent'])\n",
    "print(missing_data.head(40))"
   ]
  },
  {
   "cell_type": "code",
   "execution_count": 31,
   "metadata": {},
   "outputs": [
    {
     "name": "stdout",
     "output_type": "stream",
     "text": [
      "Gd    2\n",
      "Fa    2\n",
      "Ex    1\n",
      "Name: PoolQC, dtype: int64\n"
     ]
    }
   ],
   "source": [
    "#\"PoolQC\"\n",
    "print(data_set[\"PoolQC\"].value_counts())\n",
    "total_data[\"PoolQC\"].fillna(\"NA\", inplace=True)"
   ]
  },
  {
   "cell_type": "code",
   "execution_count": 32,
   "metadata": {},
   "outputs": [
    {
     "name": "stdout",
     "output_type": "stream",
     "text": [
      "Shed    95\n",
      "Gar2     5\n",
      "Othr     4\n",
      "TenC     1\n",
      "Name: MiscFeature, dtype: int64\n"
     ]
    }
   ],
   "source": [
    "#\"MiscFeature\"\n",
    "print(total_data[\"MiscFeature\"].value_counts())\n",
    "#Por hora vamos dropar essa feature, mas uma ideia seria criar outras variaveis para Shed, Gar2, e TenC\n",
    "total_data = total_data.drop([\"MiscFeature\"], axis=1)"
   ]
  },
  {
   "cell_type": "code",
   "execution_count": 33,
   "metadata": {},
   "outputs": [
    {
     "name": "stdout",
     "output_type": "stream",
     "text": [
      "Grvl    120\n",
      "Pave     77\n",
      "Name: Alley, dtype: int64\n"
     ]
    }
   ],
   "source": [
    "#\"Alley\"\n",
    "print(total_data[\"Alley\"].value_counts())\n",
    "total_data[\"Alley\"].fillna(\"NA\", inplace=True)"
   ]
  },
  {
   "cell_type": "code",
   "execution_count": 34,
   "metadata": {},
   "outputs": [
    {
     "name": "stdout",
     "output_type": "stream",
     "text": [
      "MnPrv    327\n",
      "GdPrv    118\n",
      "GdWo     110\n",
      "MnWw      12\n",
      "Name: Fence, dtype: int64\n"
     ]
    }
   ],
   "source": [
    "#\"Fence\"\n",
    "print(total_data[\"Fence\"].value_counts())\n",
    "total_data[\"Fence\"].fillna(\"NA\", inplace=True)"
   ]
  },
  {
   "cell_type": "code",
   "execution_count": 35,
   "metadata": {},
   "outputs": [
    {
     "name": "stdout",
     "output_type": "stream",
     "text": [
      "Gd    742\n",
      "TA    591\n",
      "Fa     74\n",
      "Po     46\n",
      "Ex     42\n",
      "Name: FireplaceQu, dtype: int64\n"
     ]
    }
   ],
   "source": [
    "#\"FireplaceQu\"\n",
    "print(total_data[\"FireplaceQu\"].value_counts())\n",
    "total_data[\"FireplaceQu\"].fillna(\"NA\", inplace=True)"
   ]
  },
  {
   "cell_type": "code",
   "execution_count": 36,
   "metadata": {
    "collapsed": true
   },
   "outputs": [],
   "source": [
    "#\"LotFrontage\"\n",
    "from LotFrontage import predictLotFrontage\n",
    "total_data[\"LotFrontage\"]=predictLotFrontage()"
   ]
  },
  {
   "cell_type": "code",
   "execution_count": 37,
   "metadata": {
    "collapsed": true
   },
   "outputs": [],
   "source": [
    "#\"GarageCond\"\n",
    "#\"GarageFinish\"\n",
    "#\"GarageQual\"\n",
    "#\"GarageType\"\n",
    "total_data[\"GarageCond\"].fillna(\"NA\", inplace=True)\n",
    "total_data[\"GarageFinish\"].fillna(\"NA\", inplace=True)\n",
    "total_data[\"GarageQual\"].fillna(\"NA\", inplace=True)\n",
    "total_data[\"GarageType\"].fillna(\"NA\", inplace=True)"
   ]
  },
  {
   "cell_type": "code",
   "execution_count": 38,
   "metadata": {
    "collapsed": true
   },
   "outputs": [],
   "source": [
    "#\"GarageYrBlt\"\n",
    "total_data = total_data.drop(\"GarageYrBlt\", axis=1) "
   ]
  },
  {
   "cell_type": "code",
   "execution_count": 39,
   "metadata": {},
   "outputs": [],
   "source": [
    "todrop=total_data[[\"GarageFinish\",\"GarageQual\",\"GarageType\",\"GarageCond\"]].loc[total_data['GarageCars'].isnull()].index[0]"
   ]
  },
  {
   "cell_type": "code",
   "execution_count": 40,
   "metadata": {},
   "outputs": [
    {
     "name": "stdout",
     "output_type": "stream",
     "text": [
      "2.0    1593\n",
      "1.0     774\n",
      "3.0     371\n",
      "0.0     155\n",
      "4.0      16\n",
      "5.0       1\n",
      "Name: GarageCars, dtype: int64\n"
     ]
    }
   ],
   "source": [
    "total_data.at[todrop,'GarageCars']=0\n",
    "print(total_data[\"GarageCars\"].value_counts())"
   ]
  },
  {
   "cell_type": "code",
   "execution_count": 41,
   "metadata": {
    "collapsed": true
   },
   "outputs": [],
   "source": [
    "#\"BsmtExposure\", \"BsmtCond\", \"BsmtQual\", \"BsmtFinType2\", \"BsmtFinType1\"\n",
    "total_data[\"BsmtExposure\"].fillna(\"NA\", inplace=True)\n",
    "total_data[\"BsmtCond\"].fillna(\"NA\", inplace=True)\n",
    "total_data[\"BsmtQual\"].fillna(\"NA\", inplace=True)\n",
    "total_data[\"BsmtFinType2\"].fillna(\"NA\", inplace=True)\n",
    "total_data[\"BsmtFinType1\"].fillna(\"NA\", inplace=True)"
   ]
  },
  {
   "cell_type": "code",
   "execution_count": 42,
   "metadata": {
    "collapsed": true
   },
   "outputs": [],
   "source": [
    "#\"MasVnrType\", \"MasVnrArea\"\n",
    "total_data[\"MasVnrType\"].fillna(\"NA\", inplace=True)\n",
    "total_data[\"MasVnrArea\"].fillna(0, inplace=True)"
   ]
  },
  {
   "cell_type": "code",
   "execution_count": 43,
   "metadata": {},
   "outputs": [
    {
     "name": "stdout",
     "output_type": "stream",
     "text": [
      "RL         2260\n",
      "RM          459\n",
      "FV          139\n",
      "RH           26\n",
      "C (all)      22\n",
      "Name: MSZoning, dtype: int64\n"
     ]
    }
   ],
   "source": [
    "#total_data.loc[total_data[\"MSZoning\"].isnull()].T\n",
    "print(total_data[\"MSZoning\"].value_counts())\n",
    "# ESTRATÉGIA ADOTADA, PREENCHER COM O MAIS COMUM\n",
    "total_data[\"MSZoning\"].fillna(\"RL\", inplace=True)\n",
    "#data['LotFrontage'].loc[data['LotFrontage'].isnull()].index"
   ]
  },
  {
   "cell_type": "code",
   "execution_count": 44,
   "metadata": {},
   "outputs": [
    {
     "name": "stdout",
     "output_type": "stream",
     "text": [
      "0.0    1700\n",
      "1.0    1169\n",
      "2.0      37\n",
      "3.0       2\n",
      "Name: BsmtFullBath, dtype: int64\n"
     ]
    }
   ],
   "source": [
    "print(total_data[\"BsmtFullBath\"].value_counts())\n",
    "# ESTRATÉGIA ADOTADA, PREENCHER COM O MAIS COMUM\n",
    "total_data[\"BsmtFullBath\"].fillna(0, inplace=True)"
   ]
  },
  {
   "cell_type": "code",
   "execution_count": 45,
   "metadata": {},
   "outputs": [
    {
     "name": "stdout",
     "output_type": "stream",
     "text": [
      "0.0    2734\n",
      "1.0     170\n",
      "2.0       4\n",
      "Name: BsmtHalfBath, dtype: int64\n"
     ]
    }
   ],
   "source": [
    "print(total_data[\"BsmtHalfBath\"].value_counts())\n",
    "# ESTRATÉGIA ADOTADA, PREENCHER COM O MAIS COMUM\n",
    "total_data[\"BsmtHalfBath\"].fillna(0, inplace=True)"
   ]
  },
  {
   "cell_type": "code",
   "execution_count": 46,
   "metadata": {},
   "outputs": [
    {
     "name": "stdout",
     "output_type": "stream",
     "text": [
      "AllPub    2907\n",
      "NoSeWa       1\n",
      "Name: Utilities, dtype: int64\n"
     ]
    }
   ],
   "source": [
    "print(total_data[\"Utilities\"].value_counts())\n",
    "#Variavel explica pouca variança no dataset, por isso a decisão de dropar esta feature\n",
    "total_data = total_data.drop(\"Utilities\", axis=1)"
   ]
  },
  {
   "cell_type": "code",
   "execution_count": 47,
   "metadata": {},
   "outputs": [
    {
     "name": "stdout",
     "output_type": "stream",
     "text": [
      "Typ     2708\n",
      "Min2      70\n",
      "Min1      65\n",
      "Mod       35\n",
      "Maj1      19\n",
      "Maj2       9\n",
      "Sev        2\n",
      "Name: Functional, dtype: int64\n"
     ]
    }
   ],
   "source": [
    "print(total_data[\"Functional\"].value_counts())\n",
    "# ESTRATÉGIA ADOTADA, PREENCHER COM O MAIS COMUM\n",
    "total_data[\"Functional\"].fillna(\"Typ\", inplace=True)"
   ]
  },
  {
   "cell_type": "code",
   "execution_count": 48,
   "metadata": {},
   "outputs": [
    {
     "name": "stdout",
     "output_type": "stream",
     "text": [
      "            2567\n",
      "GarageCars   0.0\n",
      "GarageArea   NaN\n"
     ]
    }
   ],
   "source": [
    "total_data[\"GarageArea\"].describe()\n",
    "print(total_data[[\"GarageCars\", \"GarageArea\"]].loc[total_data[\"GarageArea\"].isnull()].T)\n",
    "total_data[\"GarageArea\"].fillna(0, inplace=True)"
   ]
  },
  {
   "cell_type": "code",
   "execution_count": 49,
   "metadata": {},
   "outputs": [
    {
     "name": "stdout",
     "output_type": "stream",
     "text": [
      "           2111\n",
      "BsmtQual     NA\n",
      "BsmtFinSF2  NaN\n"
     ]
    }
   ],
   "source": [
    "#print(total_data[\"BsmtFinSF2\"].value_counts())\n",
    "print(total_data[[\"BsmtQual\", \"BsmtFinSF2\"]].loc[total_data[\"BsmtFinSF2\"].isnull()].T)\n",
    "total_data[\"BsmtFinSF2\"].fillna(0, inplace=True)"
   ]
  },
  {
   "cell_type": "code",
   "execution_count": 50,
   "metadata": {},
   "outputs": [
    {
     "name": "stdout",
     "output_type": "stream",
     "text": [
      "          2111\n",
      "BsmtQual    NA\n",
      "BsmtUnfSF  NaN\n"
     ]
    }
   ],
   "source": [
    "#BsmtUnfSF\n",
    "#print(total_data[\"BsmtUnfSF\"].value_counts())\n",
    "print(total_data[[\"BsmtQual\", \"BsmtUnfSF\"]].loc[total_data[\"BsmtUnfSF\"].isnull()].T)\n",
    "total_data[\"BsmtUnfSF\"].fillna(0, inplace=True)"
   ]
  },
  {
   "cell_type": "code",
   "execution_count": 51,
   "metadata": {},
   "outputs": [
    {
     "name": "stdout",
     "output_type": "stream",
     "text": [
      "            2111\n",
      "BsmtQual      NA\n",
      "TotalBsmtSF  NaN\n"
     ]
    }
   ],
   "source": [
    "print(total_data[[\"BsmtQual\", \"TotalBsmtSF\"]].loc[total_data[\"TotalBsmtSF\"].isnull()].T)\n",
    "total_data[\"TotalBsmtSF\"].fillna(0, inplace=True)"
   ]
  },
  {
   "cell_type": "code",
   "execution_count": 52,
   "metadata": {},
   "outputs": [
    {
     "name": "stdout",
     "output_type": "stream",
     "text": [
      "           2111\n",
      "BsmtQual     NA\n",
      "BsmtFinSF1  NaN\n"
     ]
    }
   ],
   "source": [
    "print(total_data[[\"BsmtQual\", \"BsmtFinSF1\"]].loc[total_data[\"BsmtFinSF1\"].isnull()].T)\n",
    "total_data[\"BsmtFinSF1\"].fillna(0, inplace=True)"
   ]
  },
  {
   "cell_type": "code",
   "execution_count": 53,
   "metadata": {},
   "outputs": [
    {
     "name": "stdout",
     "output_type": "stream",
     "text": [
      "SBrkr    2665\n",
      "FuseA     186\n",
      "FuseF      49\n",
      "FuseP       8\n",
      "Mix         1\n",
      "Name: Electrical, dtype: int64\n"
     ]
    }
   ],
   "source": [
    "print(total_data[\"Electrical\"].value_counts())\n",
    "total_data[\"Electrical\"].fillna(\"SBrkr\", inplace=True)"
   ]
  },
  {
   "cell_type": "code",
   "execution_count": 54,
   "metadata": {},
   "outputs": [
    {
     "data": {
      "image/png": "[encoded data removed]",
      "text/plain": [
       "<matplotlib.figure.Figure at 0x257fa6d76a0>"
      ]
     },
     "metadata": {},
     "output_type": "display_data"
    }
   ],
   "source": [
    "#box plot Exterior1st/saleprice\n",
    "var = 'Exterior1st'\n",
    "Exterior2ndPLOT = pd.concat([(np.exp(data_set['SalePrice'])), data_set[var]], axis=1)\n",
    "f, ax = plt.subplots(figsize=(8, 6))\n",
    "fig = sns.boxplot(x=var, y=\"SalePrice\", data=Exterior2ndPLOT)\n",
    "fig.axis(ymin=0, ymax=800000);"
   ]
  },
  {
   "cell_type": "code",
   "execution_count": 55,
   "metadata": {},
   "outputs": [
    {
     "name": "stdout",
     "output_type": "stream",
     "text": [
      "VinylSd    1023\n",
      "MetalSd     450\n",
      "HdBoard     441\n",
      "Wd Sdng     409\n",
      "Plywood     221\n",
      "CemntBd     125\n",
      "BrkFace      86\n",
      "WdShing      56\n",
      "AsbShng      43\n",
      "Stucco       42\n",
      "BrkComm       6\n",
      "CBlock        2\n",
      "AsphShn       2\n",
      "Stone         2\n",
      "ImStucc       1\n",
      "Name: Exterior1st, dtype: int64\n"
     ]
    }
   ],
   "source": [
    "print(total_data['Exterior1st'].value_counts())\n",
    "#ESTRATÉGIA ADOTADA, PREENCHER COM O MAIS COMUM\n",
    "total_data['Exterior1st'].fillna(\"VinylSd\", inplace=True)"
   ]
  },
  {
   "cell_type": "code",
   "execution_count": 56,
   "metadata": {},
   "outputs": [
    {
     "name": "stdout",
     "output_type": "stream",
     "text": [
      "VinylSd    1012\n",
      "MetalSd     447\n",
      "HdBoard     405\n",
      "Wd Sdng     390\n",
      "Plywood     270\n",
      "CmentBd     125\n",
      "Wd Shng      81\n",
      "Stucco       46\n",
      "BrkFace      46\n",
      "AsbShng      37\n",
      "Brk Cmn      22\n",
      "ImStucc      14\n",
      "Stone         6\n",
      "AsphShn       4\n",
      "CBlock        3\n",
      "Other         1\n",
      "Name: Exterior2nd, dtype: int64\n"
     ]
    }
   ],
   "source": [
    "print(total_data['Exterior2nd'].value_counts())\n",
    "#ESTRATÉGIA ADOTADA, PREENCHER COM O MAIS COMUM\n",
    "total_data['Exterior2nd'].fillna(\"VinylSd\", inplace=True)"
   ]
  },
  {
   "cell_type": "code",
   "execution_count": 57,
   "metadata": {},
   "outputs": [
    {
     "name": "stdout",
     "output_type": "stream",
     "text": [
      "TA    1488\n",
      "Gd    1151\n",
      "Ex     201\n",
      "Fa      69\n",
      "Name: KitchenQual, dtype: int64\n"
     ]
    }
   ],
   "source": [
    "print(total_data[\"KitchenQual\"].value_counts())\n",
    "total_data[\"KitchenQual\"].fillna(\"TA\", inplace=True)"
   ]
  },
  {
   "cell_type": "code",
   "execution_count": 58,
   "metadata": {},
   "outputs": [
    {
     "name": "stdout",
     "output_type": "stream",
     "text": [
      "WD       2518\n",
      "New       237\n",
      "COD        87\n",
      "ConLD      26\n",
      "CWD        12\n",
      "ConLI       9\n",
      "ConLw       8\n",
      "Oth         7\n",
      "Con         5\n",
      "Name: SaleType, dtype: int64\n"
     ]
    }
   ],
   "source": [
    "print(total_data[\"SaleType\"].value_counts())\n",
    "total_data[\"SaleType\"].fillna(\"WD\", inplace=True)"
   ]
  },
  {
   "cell_type": "markdown",
   "metadata": {},
   "source": [
    "#### Verificando se conseguimos eliminar todos os dados faltantes"
   ]
  },
  {
   "cell_type": "code",
   "execution_count": 59,
   "metadata": {},
   "outputs": [
    {
     "name": "stdout",
     "output_type": "stream",
     "text": [
      "            Total   Percent\n",
      "SalePrice    1459  0.501375\n",
      "Foundation      0  0.000000\n"
     ]
    }
   ],
   "source": [
    "#missing data\n",
    "set_analysed = total_data\n",
    "total = set_analysed.isnull().sum().sort_values(ascending=False)\n",
    "percent = (set_analysed.isnull().sum()/set_analysed.isnull().count()).sort_values(ascending=False)\n",
    "missing_data = pd.concat([total, percent], axis=1, keys=['Total', 'Percent'])\n",
    "print(missing_data.head(2))"
   ]
  },
  {
   "cell_type": "markdown",
   "metadata": {},
   "source": [
    "#### Ajustando alguns dados numéricos para categoricos"
   ]
  },
  {
   "cell_type": "code",
   "execution_count": 60,
   "metadata": {},
   "outputs": [
    {
     "data": {
      "text/plain": [
       "20     1077\n",
       "60      571\n",
       "50      286\n",
       "120     182\n",
       "30      138\n",
       "160     128\n",
       "70      127\n",
       "80      118\n",
       "90      109\n",
       "190      61\n",
       "85       48\n",
       "75       23\n",
       "45       18\n",
       "180      17\n",
       "40        6\n",
       "150       1\n",
       "Name: MSSubClass, dtype: int64"
      ]
     },
     "execution_count": 60,
     "metadata": {},
     "output_type": "execute_result"
    }
   ],
   "source": [
    "total_data['MSSubClass'].value_counts()"
   ]
  },
  {
   "cell_type": "code",
   "execution_count": 61,
   "metadata": {
    "collapsed": true
   },
   "outputs": [],
   "source": [
    "#Year and month sold are transformed into categorical features.\n",
    "# Descrição: YrSold: Year Sold (YYYY)\n",
    "total_data['YrSold']=total_data['YrSold'].astype(str)\n",
    "# Descrição: MoSold: Month Sold (MM)\n",
    "total_data['MoSold']=total_data['MoSold'].astype(str)\n",
    "# Descrição: Identifies the type of dwelling involved in the sale.\n",
    "total_data['MSSubClass']=total_data['MSSubClass'].astype(str)"
   ]
  },
  {
   "cell_type": "markdown",
   "metadata": {},
   "source": [
    "#### Transdormando categorial features em dummie variables"
   ]
  },
  {
   "cell_type": "code",
   "execution_count": 62,
   "metadata": {
    "collapsed": true
   },
   "outputs": [],
   "source": [
    "total_data=pd.get_dummies(total_data)"
   ]
  },
  {
   "cell_type": "markdown",
   "metadata": {},
   "source": [
    "#### Vamos salvar nossos dados pré-processados caso quisermos reutilizalos em outro momento"
   ]
  },
  {
   "cell_type": "code",
   "execution_count": 63,
   "metadata": {
    "collapsed": true
   },
   "outputs": [],
   "source": [
    "preprocessed_total_data = total_data\n",
    "#print(preprocessed_total_data)\n",
    "#Salvando dados em formato CSV\n",
    "preprocessed_total_data.to_csv(\"preprocessed_data.csv\", sep=',')"
   ]
  },
  {
   "cell_type": "code",
   "execution_count": 64,
   "metadata": {},
   "outputs": [
    {
     "name": "stdout",
     "output_type": "stream",
     "text": [
      "(1451, 325)\n",
      "(1459, 325)\n"
     ]
    }
   ],
   "source": [
    "#Separando o data_set e o submission_set\n",
    "preprocessed_data_set = preprocessed_total_data.iloc[:1451, :]\n",
    "preprocessed_submission_set = preprocessed_total_data.iloc[1451:,:]\n",
    "print(preprocessed_data_set.shape)\n",
    "print(preprocessed_submission_set.shape)"
   ]
  },
  {
   "cell_type": "markdown",
   "metadata": {},
   "source": [
    "#### Dividindo as features e target em train e test set"
   ]
  },
  {
   "cell_type": "code",
   "execution_count": 65,
   "metadata": {
    "collapsed": true
   },
   "outputs": [],
   "source": [
    "y = preprocessed_data_set['SalePrice']\n",
    "X = preprocessed_data_set.drop(labels='SalePrice', axis=1)"
   ]
  },
  {
   "cell_type": "code",
   "execution_count": null,
   "metadata": {
    "collapsed": true
   },
   "outputs": [],
   "source": []
  },
  {
   "cell_type": "markdown",
   "metadata": {},
   "source": [
    "# Modelos"
   ]
  },
  {
   "cell_type": "markdown",
   "metadata": {},
   "source": [
    "## Definindo medidas de performance"
   ]
  },
  {
   "cell_type": "code",
   "execution_count": 66,
   "metadata": {
    "collapsed": true
   },
   "outputs": [],
   "source": [
    "from sklearn.model_selection import KFold, cross_val_score\n",
    "from sklearn.metrics import mean_squared_error, mean_squared_log_error, r2_score\n",
    "def RMSE_score(model, X, y, k_num):\n",
    "    kfold = KFold(k_num, shuffle=True, random_state=42).get_n_splits(X.values)\n",
    "    RMSE = np.sqrt(-cross_val_score(model, X.values, y, scoring=\"neg_mean_squared_error\", cv = kfold))\n",
    "    return(RMSE)\n",
    "\n",
    "def R2_score(model, X, y, k_num):\n",
    "    kfold = KFold(k_num, shuffle=True, random_state=42).get_n_splits(X.values)\n",
    "    R2 = (cross_val_score(model, X.values, y, scoring=\"r2\", cv = kfold))\n",
    "    return(R2)"
   ]
  },
  {
   "cell_type": "markdown",
   "metadata": {},
   "source": [
    "## Treinando os modelos"
   ]
  },
  {
   "cell_type": "code",
   "execution_count": 67,
   "metadata": {
    "collapsed": true
   },
   "outputs": [],
   "source": [
    "#impotando modelos descritos nas propostas\n",
    "from sklearn.linear_model import LinearRegression\n",
    "from sklearn.preprocessing import PolynomialFeatures\n",
    "from sklearn.svm import SVR\n",
    "from sklearn.linear_model import SGDRegressor\n",
    "from sklearn.tree import DecisionTreeRegressor\n",
    "from sklearn.ensemble import GradientBoostingRegressor\n",
    "\n",
    "from sklearn.model_selection import GridSearchCV, KFold, cross_val_score\n",
    "from sklearn.preprocessing import StandardScaler"
   ]
  },
  {
   "cell_type": "markdown",
   "metadata": {},
   "source": [
    "### LinearRegression"
   ]
  },
  {
   "cell_type": "code",
   "execution_count": 68,
   "metadata": {},
   "outputs": [
    {
     "name": "stdout",
     "output_type": "stream",
     "text": [
      "LinearRegression(copy_X=True, fit_intercept=False, n_jobs=1, normalize=False)\n",
      "LinearRegression RMSE score: 0.1353 (0.0087), R2 score 0.8775 (0.0053)\n",
      "\n"
     ]
    }
   ],
   "source": [
    "#Definindo o modelo e aplicando GridScearchCV\n",
    "regressorLinearRegression = LinearRegression()\n",
    "\n",
    "parameters = [{'fit_intercept': [True, False],\n",
    "              'normalize': [False, True]}]\n",
    "\n",
    "grid_search = GridSearchCV(estimator = regressorLinearRegression,\n",
    "                           param_grid = parameters,\n",
    "                           scoring = 'neg_mean_squared_error',\n",
    "                           cv = 2,\n",
    "                           n_jobs = -1)\n",
    "\n",
    "grid_search = grid_search.fit(X, y)\n",
    "best_estimator_LinearRegression = grid_search.best_estimator_\n",
    "print(best_estimator_LinearRegression)\n",
    "\n",
    "regressorLinearRegression = best_estimator_LinearRegression\n",
    "model = regressorLinearRegression\n",
    "RMSE = RMSE_score(regressorLinearRegression, X, y, 2)\n",
    "R2 = R2_score(regressorLinearRegression, X, y, 2)\n",
    "print(\"LinearRegression RMSE score: {:.4f} ({:.4f}), R2 score {:.4f} ({:.4f})\\n\".format(RMSE.mean(), RMSE.std(), R2.mean(), R2.std()))"
   ]
  },
  {
   "cell_type": "markdown",
   "metadata": {},
   "source": [
    "### PolinomialRegression (LinearRegression with PolynomialFeatures)"
   ]
  },
  {
   "cell_type": "code",
   "execution_count": 69,
   "metadata": {},
   "outputs": [
    {
     "name": "stdout",
     "output_type": "stream",
     "text": [
      "LinearRegression(copy_X=True, fit_intercept=False, n_jobs=1, normalize=False)\n",
      "Polinomial Regression RMSE score: 0.1364 (0.0116), R2 score 0.8754 (0.0083)\n",
      "\n"
     ]
    }
   ],
   "source": [
    "# Feature Scaling\n",
    "sc = StandardScaler()\n",
    "X_scaled = sc.fit_transform(X)\n",
    "\n",
    "# Para que possamos trabalhar com PolynomialFeatures será necessário reduzir o tamanho no nosso dataset,\n",
    "# para isso uma possivel solução é aplicar PCA\n",
    "\n",
    "from sklearn.decomposition import PCA\n",
    "pca = PCA(n_components = 8)\n",
    "X_PCA = pca.fit_transform(X_scaled)\n",
    "\n",
    "#Aplicando PolynomialFeatures\n",
    "poly_reg = PolynomialFeatures(degree = 2, interaction_only=False)\n",
    "X_poly = poly_reg.fit_transform(X_PCA)\n",
    "\n",
    "#Definindo o modelo e aplicando GridScearchCV\n",
    "regressor = LinearRegression()\n",
    "\n",
    "parameters = [{'fit_intercept': [True, False],\n",
    "              'normalize': [False, True]}]\n",
    "\n",
    "grid_search = GridSearchCV(estimator = regressor,\n",
    "                           param_grid = parameters,\n",
    "                           scoring = 'neg_mean_squared_error',\n",
    "                           cv = 2,\n",
    "                           n_jobs = -1)\n",
    "\n",
    "grid_search = grid_search.fit(X_poly, y)\n",
    "best_estimator_PolinomialRegression = grid_search.best_estimator_\n",
    "print(best_estimator_PolinomialRegression)\n",
    "\n",
    "regressorPolinomialRegression = best_estimator_PolinomialRegression\n",
    "model = regressorPolinomialRegression\n",
    "\n",
    "RMSE = RMSE_score(model, pd.DataFrame(X_poly), y, 4)\n",
    "R2 = R2_score(model, pd.DataFrame(X_poly), y, 4)\n",
    "print(\"Polinomial Regression RMSE score: {:.4f} ({:.4f}), R2 score {:.4f} ({:.4f})\\n\".format(RMSE.mean(), RMSE.std(), R2.mean(), R2.std()))"
   ]
  },
  {
   "cell_type": "markdown",
   "metadata": {},
   "source": [
    "### SVR\n",
    "Para este modelo é muito importanto aplicar um Scaler portanto aplicaremos oconjunto X_scaled, já utilizado no modelo Polinomial."
   ]
  },
  {
   "cell_type": "code",
   "execution_count": 70,
   "metadata": {
    "scrolled": true
   },
   "outputs": [
    {
     "name": "stdout",
     "output_type": "stream",
     "text": [
      "SVR(C=10, cache_size=200, coef0=0.0, degree=1, epsilon=0.1, gamma=0.0001,\n",
      "  kernel='rbf', max_iter=-1, shrinking=True, tol=0.001, verbose=False)\n",
      "regressorSVR RMSE score: 0.1171 (0.0088), R2 score 0.9080 (0.0067)\n",
      "\n"
     ]
    }
   ],
   "source": [
    "#Definindo o modelo e aplicando GridScearchCV\n",
    "from sklearn.model_selection import GridSearchCV\n",
    "regressor = SVR()\n",
    "\n",
    "parameters = {'C': [1, 10, 100], 'kernel': ['rbf'],\n",
    "              'degree': [1,2,3],\n",
    "              'gamma': [0.00001, 0.0001, 0.001]}\n",
    "\n",
    "grid_search = GridSearchCV(estimator = regressor,\n",
    "                           param_grid = parameters,\n",
    "                           scoring = 'neg_mean_squared_error',\n",
    "                           cv = 5,\n",
    "                           n_jobs = -1)\n",
    "\n",
    "grid_search = grid_search.fit(X_scaled, y)\n",
    "best_estimator_SVR = grid_search.best_estimator_\n",
    "print(best_estimator_SVR)\n",
    "\n",
    "regressorSVR = best_estimator_SVR\n",
    "model = regressorSVR\n",
    "\n",
    "RMSE = RMSE_score(model, pd.DataFrame(X_scaled), y, 4)\n",
    "R2 = R2_score(model, pd.DataFrame(X_scaled), y, 4)\n",
    "print(\"regressorSVR RMSE score: {:.4f} ({:.4f}), R2 score {:.4f} ({:.4f})\\n\".format(RMSE.mean(), RMSE.std(), R2.mean(), R2.std()))"
   ]
  },
  {
   "cell_type": "markdown",
   "metadata": {},
   "source": [
    "### SGDRegressor"
   ]
  },
  {
   "cell_type": "code",
   "execution_count": 71,
   "metadata": {},
   "outputs": [
    {
     "name": "stdout",
     "output_type": "stream",
     "text": [
      "SGDRegressor(alpha=0.3, average=False, epsilon=0.1, eta0=0.01,\n",
      "       fit_intercept=True, l1_ratio=0.15, learning_rate='invscaling',\n",
      "       loss='squared_loss', max_iter=1000, n_iter=None, penalty='l2',\n",
      "       power_t=0.25, random_state=42, shuffle=True, tol=None, verbose=0,\n",
      "       warm_start=False)\n",
      "SGDRegressor RMSE score: 0.1127 (0.0098), R2 score 0.9147 (0.0083)\n",
      "\n"
     ]
    }
   ],
   "source": [
    "#Definindo o modelo e aplicando GridScearchCV\n",
    "\n",
    "regressor = SGDRegressor()\n",
    "\n",
    "parameters = {'random_state':[42],\n",
    "              'alpha':[0.1, 0.2, 0.3, 0.4, 0.5, 0.6, 0.7, 0.8, 0.9, 1],\n",
    "              'fit_intercept':[True, False],\n",
    "              'max_iter':[1000],\n",
    "              'learning_rate':['constant', 'optimal', 'invscaling']}\n",
    "\n",
    "grid_search = GridSearchCV(estimator = regressor,\n",
    "                           param_grid = parameters,\n",
    "                           scoring = 'neg_mean_squared_error',\n",
    "                           cv = 5,\n",
    "                           n_jobs = -1)\n",
    "\n",
    "grid_search = grid_search.fit(X_scaled, y)\n",
    "best_estimator_SGDRegressor = grid_search.best_estimator_\n",
    "print(best_estimator_SGDRegressor)\n",
    "\n",
    "regressorSGDRegressor = best_estimator_SGDRegressor\n",
    "\n",
    "model = regressorSGDRegressor\n",
    "\n",
    "RMSE = RMSE_score(model, pd.DataFrame(X_scaled), y, 4)\n",
    "R2 = R2_score(model, pd.DataFrame(X_scaled), y, 4)\n",
    "print(\"SGDRegressor RMSE score: {:.4f} ({:.4f}), R2 score {:.4f} ({:.4f})\\n\".format(RMSE.mean(), RMSE.std(), R2.mean(), R2.std()))"
   ]
  },
  {
   "cell_type": "markdown",
   "metadata": {},
   "source": [
    "### DecisionTreeRegressor"
   ]
  },
  {
   "cell_type": "code",
   "execution_count": 72,
   "metadata": {},
   "outputs": [
    {
     "name": "stdout",
     "output_type": "stream",
     "text": [
      "DecisionTreeRegressor(criterion='mse', max_depth=10, max_features='auto',\n",
      "           max_leaf_nodes=None, min_impurity_decrease=0.0,\n",
      "           min_impurity_split=None, min_samples_leaf=5,\n",
      "           min_samples_split=2, min_weight_fraction_leaf=0.0,\n",
      "           presort=False, random_state=42, splitter='best')\n",
      "DecisionTreeRegressor RMSE score: 0.1759 (0.0049), R2 score 0.7922 (0.0168)\n",
      "\n"
     ]
    }
   ],
   "source": [
    "regressor = DecisionTreeRegressor()\n",
    "\n",
    "parameters = {'random_state': [42],\n",
    "              'max_depth': [5,10,15],\n",
    "              'max_features' : ['auto', 'sqrt', 'log2', None],\n",
    "              'min_samples_split': [2,3,4],\n",
    "              'min_samples_leaf': [4,5,10,15]}\n",
    "\n",
    "grid_search = GridSearchCV(estimator = regressor,\n",
    "                           param_grid = parameters,\n",
    "                           scoring = 'neg_mean_squared_error',\n",
    "                           cv = 3,\n",
    "                           n_jobs = -1)\n",
    "\n",
    "grid_search = grid_search.fit(X, y)\n",
    "best_estimator_DecisionTreeRegressor = grid_search.best_estimator_\n",
    "print(best_estimator_DecisionTreeRegressor)\n",
    "\n",
    "regressorDecisionTreeRegressor = best_estimator_DecisionTreeRegressor\n",
    "\n",
    "model = regressorDecisionTreeRegressor\n",
    "RMSE = RMSE_score(model, X, y, 3)\n",
    "R2 = R2_score(model, X, y, 3)\n",
    "print(\"DecisionTreeRegressor RMSE score: {:.4f} ({:.4f}), R2 score {:.4f} ({:.4f})\\n\".format(RMSE.mean(), RMSE.std(), R2.mean(), R2.std()))"
   ]
  },
  {
   "cell_type": "markdown",
   "metadata": {},
   "source": [
    "### GradientBoostingRegressor"
   ]
  },
  {
   "cell_type": "code",
   "execution_count": 73,
   "metadata": {},
   "outputs": [
    {
     "name": "stdout",
     "output_type": "stream",
     "text": [
      "GradientBoostingRegressor(alpha=0.9, criterion='friedman_mse', init=None,\n",
      "             learning_rate=0.1, loss='ls', max_depth=2, max_features=None,\n",
      "             max_leaf_nodes=None, min_impurity_decrease=0.0,\n",
      "             min_impurity_split=None, min_samples_leaf=3,\n",
      "             min_samples_split=7, min_weight_fraction_leaf=0.0,\n",
      "             n_estimators=300, presort='auto', random_state=42,\n",
      "             subsample=0.7, verbose=0, warm_start=False)\n",
      "GradientBoostingRegressor RMSE score: 0.1148 (0.0055), R2 score 0.9112 (0.0118)\n",
      "\n"
     ]
    }
   ],
   "source": [
    "#Definindo o modelo e aplicando GridScearchCV\n",
    "regressor = GradientBoostingRegressor()\n",
    "\n",
    "parameters = {'random_state': [42],\n",
    "              'learning_rate': [0.1],\n",
    "              'n_estimators': [100, 200, 300],\n",
    "              'subsample': [0.5, 0.7, 1],\n",
    "              'max_depth': [2,3,4],\n",
    "              'min_samples_split': [6,7,10],\n",
    "              'min_samples_leaf': [1,2,3]}\n",
    "\n",
    "grid_search = GridSearchCV(estimator = regressor,\n",
    "                           param_grid = parameters,\n",
    "                           scoring = 'neg_mean_squared_error',\n",
    "                           cv = 3,\n",
    "                           n_jobs = 4)\n",
    "\n",
    "grid_search = grid_search.fit(X, y)\n",
    "best_estimator_GradientBoostingRegressor = grid_search.best_estimator_\n",
    "print(best_estimator_GradientBoostingRegressor)\n",
    "\n",
    "regressorGradientBoostingRegressor = best_estimator_GradientBoostingRegressor\n",
    "model = regressorGradientBoostingRegressor\n",
    "\n",
    "RMSE = RMSE_score(model, pd.DataFrame(X), y, 3)\n",
    "R2 = R2_score(model, pd.DataFrame(X), y, 3)\n",
    "print(\"GradientBoostingRegressor RMSE score: {:.4f} ({:.4f}), R2 score {:.4f} ({:.4f})\\n\".format(RMSE.mean(), RMSE.std(), R2.mean(), R2.std()))"
   ]
  },
  {
   "cell_type": "markdown",
   "metadata": {},
   "source": [
    "\n",
    "Analisando os resultados dos modelos obtidos pelo CrossValidation, observamos que:\n",
    "\n",
    "- em MSE o melhor modelo é o GradientBoostingRegressor com o RMSE score de...\n",
    "\n",
    "- em R^2 o melhor modelo é o SDG Regressor com R2 score de...\n",
    "\n",
    "Sendo assim vamos aplicar o GradientBoostingRegressor e o SDGRegressor no test_set do Kaggle."
   ]
  },
  {
   "cell_type": "code",
   "execution_count": 77,
   "metadata": {
    "collapsed": true
   },
   "outputs": [],
   "source": [
    "#Dropando a coluna target do dataset\n",
    "X_preprocessed_submission_set=preprocessed_submission_set.drop('SalePrice', axis=1)"
   ]
  },
  {
   "cell_type": "code",
   "execution_count": 90,
   "metadata": {},
   "outputs": [],
   "source": [
    "#Realizando previsões com o GradientBoostingRegressor\n",
    "regressorGradientBoostingRegressor.fit(X, y)\n",
    "pred_GradientBoostingRegressor = np.exp(regressorGradientBoostingRegressor.predict(X_preprocessed_submission_set))\n",
    "\n",
    "#Exportanto previsões\n",
    "predicts = pd.DataFrame(data=pred_GradientBoostingRegressor, columns=['SalePrice'])\n",
    "predicts.index += 1461\n",
    "predicts.index.name = \"Id\"\n",
    "predicts.to_csv(\"predicts_GradientBoostingRegressor.csv\", sep=',')"
   ]
  },
  {
   "cell_type": "code",
   "execution_count": 91,
   "metadata": {
    "collapsed": true
   },
   "outputs": [],
   "source": [
    "#Realizando previsões com o SGDRegressor\n",
    "X_preprocessed_submission_set_scaled= sc.transform(X_preprocessed_submission_set)\n",
    "#Realizando previsões com o SGDRegressor\n",
    "regressorSGDRegressor.fit(X_scaled,y)\n",
    "pred_SGDRegressor = np.exp(regressorSGDRegressor.predict(X_preprocessed_submission_set_scaled))\n",
    "\n",
    "#Exportanto previsões\n",
    "predicts = pd.DataFrame(data=pred_SGDRegressor, columns=['SalePrice'])\n",
    "predicts.index += 1461\n",
    "predicts.index.name = \"Id\"\n",
    "predicts.to_csv(\"predicts_SGDRegressor.csv\", sep=',')"
   ]
  },
  {
   "cell_type": "markdown",
   "metadata": {},
   "source": [
    "Agora seguindo a proposta vamos tentar combinar alguns modelos com a ensemble method \"Weighted Avegaring\"\n",
    "Os modelos combinados serão os 2 melhores modelos, GradientBoostingRegressor e SGDRegressor, os demais não serão combinados devido ao baixo desempenho."
   ]
  },
  {
   "cell_type": "markdown",
   "metadata": {},
   "source": [
    "Combinando as predições"
   ]
  },
  {
   "cell_type": "code",
   "execution_count": 98,
   "metadata": {
    "collapsed": true
   },
   "outputs": [],
   "source": [
    "#Weighted Avegaring\n",
    "esemble_pred = (0.30*pred_SGDRegressor)+(0.70*pred_GradientBoostingRegressor)"
   ]
  },
  {
   "cell_type": "code",
   "execution_count": 93,
   "metadata": {
    "collapsed": true
   },
   "outputs": [],
   "source": [
    "#exportando predições do modelo esemble\n",
    "\n",
    "predicts = pd.DataFrame(data=(esemble_pred), columns = ['SalePrice'] )\n",
    "\n",
    "predicts.index += 1461 \n",
    "predicts.index.name = \"Id\"\n",
    "\n",
    "#Exportanto previsões performance\n",
    "predicts.to_csv(\"predicts_esemble.csv\", sep=',')"
   ]
  },
  {
   "cell_type": "markdown",
   "metadata": {},
   "source": [
    "Submentendo os dois arquivos no Kaggle...\n",
    "\n",
    "Resultado! Conforme o score do kaggle apresentado abaixo, o resultado do modelo esemble foi superior!"
   ]
  },
  {
   "cell_type": "code",
   "execution_count": 97,
   "metadata": {},
   "outputs": [
    {
     "data": {
      "image/png": "[encoded data removed]",
      "text/plain": [
       "<IPython.core.display.Image object>"
      ]
     },
     "execution_count": 97,
     "metadata": {
      "image/png": {
       "height": 400,
       "width": 850
      }
     },
     "output_type": "execute_result"
    }
   ],
   "source": [
    "from IPython.display import Image\n",
    "Image(filename='img/kaggle_score.png', width=850, height=400)"
   ]
  },
  {
   "cell_type": "code",
   "execution_count": 99,
   "metadata": {
    "collapsed": true
   },
   "outputs": [],
   "source": [
    "from sklearn.model_selection import train_test_split"
   ]
  },
  {
   "cell_type": "code",
   "execution_count": 100,
   "metadata": {
    "collapsed": true
   },
   "outputs": [],
   "source": [
    "X_train, X_test, y_train, y_test = train_test_split(X, y, test_size=0.1, random_state=42)"
   ]
  },
  {
   "cell_type": "code",
   "execution_count": 101,
   "metadata": {
    "collapsed": true
   },
   "outputs": [],
   "source": [
    "X_train_scaled= sc.transform(X_train)"
   ]
  },
  {
   "cell_type": "code",
   "execution_count": 102,
   "metadata": {
    "collapsed": true
   },
   "outputs": [],
   "source": [
    "X_test_scaled= sc.transform(X_test)"
   ]
  },
  {
   "cell_type": "code",
   "execution_count": 103,
   "metadata": {},
   "outputs": [
    {
     "data": {
      "text/plain": [
       "GradientBoostingRegressor(alpha=0.9, criterion='friedman_mse', init=None,\n",
       "             learning_rate=0.1, loss='ls', max_depth=2, max_features=None,\n",
       "             max_leaf_nodes=None, min_impurity_decrease=0.0,\n",
       "             min_impurity_split=None, min_samples_leaf=3,\n",
       "             min_samples_split=7, min_weight_fraction_leaf=0.0,\n",
       "             n_estimators=300, presort='auto', random_state=42,\n",
       "             subsample=0.7, verbose=0, warm_start=False)"
      ]
     },
     "execution_count": 103,
     "metadata": {},
     "output_type": "execute_result"
    }
   ],
   "source": [
    "regressorGradientBoostingRegressor.fit(X_train, y_train)"
   ]
  },
  {
   "cell_type": "code",
   "execution_count": 104,
   "metadata": {},
   "outputs": [
    {
     "data": {
      "text/plain": [
       "SGDRegressor(alpha=0.3, average=False, epsilon=0.1, eta0=0.01,\n",
       "       fit_intercept=True, l1_ratio=0.15, learning_rate='invscaling',\n",
       "       loss='squared_loss', max_iter=1000, n_iter=None, penalty='l2',\n",
       "       power_t=0.25, random_state=42, shuffle=True, tol=None, verbose=0,\n",
       "       warm_start=False)"
      ]
     },
     "execution_count": 104,
     "metadata": {},
     "output_type": "execute_result"
    }
   ],
   "source": [
    "regressorSGDRegressor.fit(X_train_scaled, y_train)"
   ]
  },
  {
   "cell_type": "code",
   "execution_count": 120,
   "metadata": {},
   "outputs": [
    {
     "data": {
      "text/plain": [
       "array([204906.01116191, 294390.1657575 , 171337.8166233 , 200203.2362767 ])"
      ]
     },
     "execution_count": 120,
     "metadata": {},
     "output_type": "execute_result"
    }
   ],
   "source": [
    "np.exp(regressorSGDRegressor.predict(X_test_scaled))[:4]"
   ]
  },
  {
   "cell_type": "code",
   "execution_count": 121,
   "metadata": {},
   "outputs": [
    {
     "data": {
      "text/plain": [
       "array([217131.71967834, 308054.47367358, 173856.86254771, 222741.19409122])"
      ]
     },
     "execution_count": 121,
     "metadata": {},
     "output_type": "execute_result"
    }
   ],
   "source": [
    "np.exp(regressorGradientBoostingRegressor.predict(X_test))[:4]"
   ]
  },
  {
   "cell_type": "code",
   "execution_count": 122,
   "metadata": {},
   "outputs": [
    {
     "data": {
      "text/plain": [
       "array([213250., 290000., 177000., 210000.])"
      ]
     },
     "execution_count": 122,
     "metadata": {},
     "output_type": "execute_result"
    }
   ],
   "source": [
    "np.exp(y_test).values[:4]"
   ]
  },
  {
   "cell_type": "code",
   "execution_count": 116,
   "metadata": {},
   "outputs": [
    {
     "data": {
      "text/plain": [
       "538     12.270220\n",
       "754     12.577636\n",
       "49      12.083905\n",
       "1447    12.254863\n",
       "141     12.019743\n",
       "614     12.659734\n",
       "1050    12.421184\n",
       "793     13.091904\n",
       "1006    11.350407\n",
       "1324    11.740061\n",
       "874     11.824080\n",
       "947     12.055250\n",
       "602     11.931636\n",
       "838     11.856515\n",
       "168     12.337101\n",
       "381     12.271392\n",
       "1148    12.292250\n",
       "1151    12.367885\n",
       "247     12.100712\n",
       "988     11.708492\n",
       "115     11.842229\n",
       "65      12.100712\n",
       "643     11.951180\n",
       "651     11.385092\n",
       "809     11.661345\n",
       "270     12.394625\n",
       "578     11.682668\n",
       "1046    11.881035\n",
       "787     12.505399\n",
       "51      11.608236\n",
       "          ...    \n",
       "910     11.225243\n",
       "1047    12.449019\n",
       "198     12.524163\n",
       "1422    11.875831\n",
       "1406    12.077671\n",
       "422     12.660328\n",
       "527     12.072541\n",
       "984     12.031719\n",
       "1055    11.407565\n",
       "1074    11.798104\n",
       "506     11.989160\n",
       "1323    11.512925\n",
       "428     12.072541\n",
       "915     11.890677\n",
       "824     11.900905\n",
       "906     11.874090\n",
       "1030    12.567237\n",
       "548     12.450978\n",
       "43      11.856515\n",
       "1187    12.078239\n",
       "1029    12.661914\n",
       "963     11.813030\n",
       "845     11.786762\n",
       "101     11.686576\n",
       "244     12.394625\n",
       "549     11.589887\n",
       "1037    12.535376\n",
       "1386    12.546868\n",
       "570     11.842229\n",
       "462     12.147914\n",
       "Name: SalePrice, Length: 146, dtype: float64"
      ]
     },
     "execution_count": 116,
     "metadata": {},
     "output_type": "execute_result"
    }
   ],
   "source": [
    "y_test"
   ]
  },
  {
   "cell_type": "code",
   "execution_count": null,
   "metadata": {
    "collapsed": true
   },
   "outputs": [],
   "source": []
  }
 ],
 "metadata": {
  "kernelspec": {
   "display_name": "Python 3",
   "language": "python",
   "name": "python3"
  },
  "language_info": {
   "codemirror_mode": {
    "name": "ipython",
    "version": 3
   },
   "file_extension": ".py",
   "mimetype": "text/x-python",
   "name": "python",
   "nbconvert_exporter": "python",
   "pygments_lexer": "ipython3",
   "version": "3.6.2"
  }
 },
 "nbformat": 4,
 "nbformat_minor": 2
}
