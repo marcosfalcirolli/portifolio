{
 "cells": [
  {
   "cell_type": "code",
   "execution_count": 1,
   "metadata": {},
   "outputs": [],
   "source": [
    "#Importando livrarias\n",
    "import numpy as np\n",
    "import pandas as pd\n",
    "import matplotlib.pyplot as plt\n",
    "import seaborn as sns\n",
    "from scipy.stats import norm\n",
    "from sklearn.preprocessing import StandardScaler\n",
    "from scipy import stats\n",
    "import warnings\n",
    "warnings.filterwarnings('ignore')\n",
    "%matplotlib inline"
   ]
  },
  {
   "cell_type": "markdown",
   "metadata": {},
   "source": [
    "# Importando os conjuntos de dados"
   ]
  },
  {
   "cell_type": "code",
   "execution_count": 2,
   "metadata": {},
   "outputs": [
    {
     "name": "stdout",
     "output_type": "stream",
     "text": [
      "The train set have 1460 lines and 81 columns\n",
      "The test set have 1459 lines and 80 columns\n"
     ]
    }
   ],
   "source": [
    "def importData():\n",
    "    data_set = pd.read_csv('dataset/train.csv')\n",
    "    submission_set = pd.read_csv('dataset/test.csv')\n",
    "    return (data_set, submission_set)\n",
    "\n",
    "data_set, submission_set= importData()\n",
    "\n",
    "print(\"The train set have %i lines and %i columns\" % data_set.shape)\n",
    "print(\"The test set have %i lines and %i columns\" % submission_set.shape)"
   ]
  },
  {
   "cell_type": "markdown",
   "metadata": {},
   "source": [
    "# Análise Exploratória"
   ]
  },
  {
   "cell_type": "code",
   "execution_count": 3,
   "metadata": {},
   "outputs": [
    {
     "name": "stdout",
     "output_type": "stream",
     "text": [
      "<class 'pandas.core.frame.DataFrame'>\n",
      "RangeIndex: 1460 entries, 0 to 1459\n",
      "Data columns (total 81 columns):\n",
      "Id               1460 non-null int64\n",
      "MSSubClass       1460 non-null int64\n",
      "MSZoning         1460 non-null object\n",
      "LotFrontage      1201 non-null float64\n",
      "LotArea          1460 non-null int64\n",
      "Street           1460 non-null object\n",
      "Alley            91 non-null object\n",
      "LotShape         1460 non-null object\n",
      "LandContour      1460 non-null object\n",
      "Utilities        1460 non-null object\n",
      "LotConfig        1460 non-null object\n",
      "LandSlope        1460 non-null object\n",
      "Neighborhood     1460 non-null object\n",
      "Condition1       1460 non-null object\n",
      "Condition2       1460 non-null object\n",
      "BldgType         1460 non-null object\n",
      "HouseStyle       1460 non-null object\n",
      "OverallQual      1460 non-null int64\n",
      "OverallCond      1460 non-null int64\n",
      "YearBuilt        1460 non-null int64\n",
      "YearRemodAdd     1460 non-null int64\n",
      "RoofStyle        1460 non-null object\n",
      "RoofMatl         1460 non-null object\n",
      "Exterior1st      1460 non-null object\n",
      "Exterior2nd      1460 non-null object\n",
      "MasVnrType       1452 non-null object\n",
      "MasVnrArea       1452 non-null float64\n",
      "ExterQual        1460 non-null object\n",
      "ExterCond        1460 non-null object\n",
      "Foundation       1460 non-null object\n",
      "BsmtQual         1423 non-null object\n",
      "BsmtCond         1423 non-null object\n",
      "BsmtExposure     1422 non-null object\n",
      "BsmtFinType1     1423 non-null object\n",
      "BsmtFinSF1       1460 non-null int64\n",
      "BsmtFinType2     1422 non-null object\n",
      "BsmtFinSF2       1460 non-null int64\n",
      "BsmtUnfSF        1460 non-null int64\n",
      "TotalBsmtSF      1460 non-null int64\n",
      "Heating          1460 non-null object\n",
      "HeatingQC        1460 non-null object\n",
      "CentralAir       1460 non-null object\n",
      "Electrical       1459 non-null object\n",
      "1stFlrSF         1460 non-null int64\n",
      "2ndFlrSF         1460 non-null int64\n",
      "LowQualFinSF     1460 non-null int64\n",
      "GrLivArea        1460 non-null int64\n",
      "BsmtFullBath     1460 non-null int64\n",
      "BsmtHalfBath     1460 non-null int64\n",
      "FullBath         1460 non-null int64\n",
      "HalfBath         1460 non-null int64\n",
      "BedroomAbvGr     1460 non-null int64\n",
      "KitchenAbvGr     1460 non-null int64\n",
      "KitchenQual      1460 non-null object\n",
      "TotRmsAbvGrd     1460 non-null int64\n",
      "Functional       1460 non-null object\n",
      "Fireplaces       1460 non-null int64\n",
      "FireplaceQu      770 non-null object\n",
      "GarageType       1379 non-null object\n",
      "GarageYrBlt      1379 non-null float64\n",
      "GarageFinish     1379 non-null object\n",
      "GarageCars       1460 non-null int64\n",
      "GarageArea       1460 non-null int64\n",
      "GarageQual       1379 non-null object\n",
      "GarageCond       1379 non-null object\n",
      "PavedDrive       1460 non-null object\n",
      "WoodDeckSF       1460 non-null int64\n",
      "OpenPorchSF      1460 non-null int64\n",
      "EnclosedPorch    1460 non-null int64\n",
      "3SsnPorch        1460 non-null int64\n",
      "ScreenPorch      1460 non-null int64\n",
      "PoolArea         1460 non-null int64\n",
      "PoolQC           7 non-null object\n",
      "Fence            281 non-null object\n",
      "MiscFeature      54 non-null object\n",
      "MiscVal          1460 non-null int64\n",
      "MoSold           1460 non-null int64\n",
      "YrSold           1460 non-null int64\n",
      "SaleType         1460 non-null object\n",
      "SaleCondition    1460 non-null object\n",
      "SalePrice        1460 non-null int64\n",
      "dtypes: float64(3), int64(35), object(43)\n",
      "memory usage: 924.0+ KB\n"
     ]
    }
   ],
   "source": [
    "#Checando as colunas\n",
    "data_set.info()"
   ]
  },
  {
   "cell_type": "code",
   "execution_count": 4,
   "metadata": {},
   "outputs": [],
   "source": [
    "#Checando histogramas\n",
    "#data_set.hist(bins=50, figsize=(40,40))\n",
    "#plt.show()"
   ]
  },
  {
   "cell_type": "code",
   "execution_count": 5,
   "metadata": {},
   "outputs": [
    {
     "data": {
      "text/plain": [
       "count      1460.000000\n",
       "mean     180921.195890\n",
       "std       79442.502883\n",
       "min       34900.000000\n",
       "25%      129975.000000\n",
       "50%      163000.000000\n",
       "75%      214000.000000\n",
       "max      755000.000000\n",
       "Name: SalePrice, dtype: float64"
      ]
     },
     "execution_count": 5,
     "metadata": {},
     "output_type": "execute_result"
    }
   ],
   "source": [
    "#Verificando algumas caracteristicas do nosso target\n",
    "data_set['SalePrice'].describe()"
   ]
  },
  {
   "cell_type": "code",
   "execution_count": 6,
   "metadata": {
    "scrolled": true
   },
   "outputs": [
    {
     "data": {
      "image/png": "[encoded data removed]",
      "text/plain": [
       "<matplotlib.figure.Figure at 0x2861731c7b8>"
      ]
     },
     "metadata": {},
     "output_type": "display_data"
    }
   ],
   "source": [
    "#Verificando a distribuição normal do nosso target (SalePrice)\n",
    "sns.distplot(data_set['SalePrice']);"
   ]
  },
  {
   "cell_type": "markdown",
   "metadata": {},
   "source": [
    "Verificando a obliquidade (Skewness)\n",
    "- Se Skewness>0, então a distribuição tem uma cauda direita (valores acima da média) mais pesada\n",
    "- Se Skewness<0, então a distribuição tem uma cauda esquerda (valores abaixo da média) mais pesada\n",
    "- Se Skewness=0, então a distribuição é aproximadamente simétrica (na terceira potência do desvio em relação à média).\n",
    "\n",
    "Verificado a curtose (Kurtosis) ou achatamento da distribuição normal\n",
    "- Se o valor da curtose for = 0, então tem o mesmo achatamento que a distribuição normal. Chama-se a estas funções de mesocúrticas.\n",
    "- Se o valor é > 0, então a distribuição em questão é mais alta (afunilada) e concentrada que a distribuição normal. Diz-se que esta função probabilidade é leptocúrtica, ou que a distribuição tem caudas pesadas (o significado é que é relativamente fácil obter valores que não se aproximam da média a vários múltiplos do desvio padrão)\n",
    "- Se o valor é < 0, então a função de distribuição é mais \"achatada\" que a distribuição normal. Chama-se-lhe platicúrtica"
   ]
  },
  {
   "cell_type": "code",
   "execution_count": 7,
   "metadata": {},
   "outputs": [
    {
     "name": "stdout",
     "output_type": "stream",
     "text": [
      "Skewness: 1.882876\n",
      "Kurtosis: 6.536282\n"
     ]
    }
   ],
   "source": [
    "print(\"Skewness: %f\" % data_set['SalePrice'].skew())\n",
    "print(\"Kurtosis: %f\" % data_set['SalePrice'].kurt())"
   ]
  },
  {
   "cell_type": "markdown",
   "metadata": {},
   "source": [
    "Então neste caso temos uma função probabilidade de calda longa e leptocúrtica\n",
    "\n",
    "Como os modelos de regressão lineares tendem a funcionar melhor com uma maior normalidade iremos lider com uma transformação do SalePrice"
   ]
  },
  {
   "cell_type": "code",
   "execution_count": 8,
   "metadata": {},
   "outputs": [
    {
     "data": {
      "image/png": "[encoded data removed]",
      "text/plain": [
       "<matplotlib.figure.Figure at 0x2861738d940>"
      ]
     },
     "metadata": {},
     "output_type": "display_data"
    },
    {
     "data": {
      "image/png": "[encoded data removed]",
      "text/plain": [
       "<matplotlib.figure.Figure at 0x2861738d9b0>"
      ]
     },
     "metadata": {},
     "output_type": "display_data"
    }
   ],
   "source": [
    "#Histograma vs. curva normal\n",
    "sns.distplot(data_set['SalePrice'], fit=norm);\n",
    "fig = plt.figure()\n",
    "#Probabilidade normal\n",
    "res = stats.probplot(data_set['SalePrice'], plot=plt)"
   ]
  },
  {
   "cell_type": "code",
   "execution_count": 9,
   "metadata": {},
   "outputs": [],
   "source": [
    "#Transformação log no SalePrice\n",
    "data_set['SalePrice'] = np.log(data_set['SalePrice'])"
   ]
  },
  {
   "cell_type": "code",
   "execution_count": 10,
   "metadata": {},
   "outputs": [
    {
     "data": {
      "image/png": "[encoded data removed]",
      "text/plain": [
       "<matplotlib.figure.Figure at 0x286172e7a20>"
      ]
     },
     "metadata": {},
     "output_type": "display_data"
    },
    {
     "data": {
      "image/png": "[encoded data removed]",
      "text/plain": [
       "<matplotlib.figure.Figure at 0x286172e7a58>"
      ]
     },
     "metadata": {},
     "output_type": "display_data"
    }
   ],
   "source": [
    "#Histograma vs. curva normal\n",
    "sns.distplot(data_set['SalePrice'], fit=norm);\n",
    "fig = plt.figure()\n",
    "#Probabilidade normal\n",
    "res = stats.probplot(data_set['SalePrice'], plot=plt)"
   ]
  },
  {
   "cell_type": "code",
   "execution_count": 11,
   "metadata": {},
   "outputs": [
    {
     "name": "stdout",
     "output_type": "stream",
     "text": [
      "Skewness: 0.121335\n",
      "Kurtosis: 0.809532\n"
     ]
    }
   ],
   "source": [
    "print(\"Skewness: %f\" % data_set['SalePrice'].skew())\n",
    "print(\"Kurtosis: %f\" % data_set['SalePrice'].kurt())"
   ]
  },
  {
   "cell_type": "markdown",
   "metadata": {},
   "source": [
    "# Pré-processamento"
   ]
  },
  {
   "cell_type": "code",
   "execution_count": 12,
   "metadata": {},
   "outputs": [
    {
     "name": "stdout",
     "output_type": "stream",
     "text": [
      "The train set have 1460 lines and 81 columns\n",
      "The test set have 1459 lines and 81 columns\n",
      "The total set have 2919 lines and 82 columns\n"
     ]
    }
   ],
   "source": [
    "#Adding an empty sales price column in the test data\n",
    "submission_set[\"SalePrice\"] = \"\"\n",
    "submission_set[\"SalePrice\"] = np.nan\n",
    "print(\"The train set have %i lines and %i columns\" % data_set.shape)\n",
    "print(\"The test set have %i lines and %i columns\" % submission_set.shape)\n",
    "\n",
    "#Concating the train and test data\n",
    "total_data = pd.concat([data_set, submission_set])\n",
    "total_data=total_data.reset_index()\n",
    "print(\"The total set have %i lines and %i columns\" % total_data.shape)\n",
    "\n",
    "#Saving the data into a csv file\n",
    "total_data.to_csv(\"total_data.csv\", sep=',')"
   ]
  },
  {
   "cell_type": "markdown",
   "metadata": {},
   "source": [
    "Observamos que as variaveis index e Id não são features, e sim apenas identificadores por isso vamos removelas do conjunto de dados"
   ]
  },
  {
   "cell_type": "code",
   "execution_count": 13,
   "metadata": {},
   "outputs": [
    {
     "data": {
      "text/html": [
       "<div>\n",
       "<style scoped>\n",
       "    .dataframe tbody tr th:only-of-type {\n",
       "        vertical-align: middle;\n",
       "    }\n",
       "\n",
       "    .dataframe tbody tr th {\n",
       "        vertical-align: top;\n",
       "    }\n",
       "\n",
       "    .dataframe thead th {\n",
       "        text-align: right;\n",
       "    }\n",
       "</style>\n",
       "<table border=\"1\" class=\"dataframe\">\n",
       "  <thead>\n",
       "    <tr style=\"text-align: right;\">\n",
       "      <th></th>\n",
       "      <th>index</th>\n",
       "      <th>Id</th>\n",
       "      <th>MSSubClass</th>\n",
       "      <th>MSZoning</th>\n",
       "      <th>LotFrontage</th>\n",
       "      <th>LotArea</th>\n",
       "      <th>Street</th>\n",
       "      <th>Alley</th>\n",
       "      <th>LotShape</th>\n",
       "      <th>LandContour</th>\n",
       "      <th>...</th>\n",
       "      <th>PoolArea</th>\n",
       "      <th>PoolQC</th>\n",
       "      <th>Fence</th>\n",
       "      <th>MiscFeature</th>\n",
       "      <th>MiscVal</th>\n",
       "      <th>MoSold</th>\n",
       "      <th>YrSold</th>\n",
       "      <th>SaleType</th>\n",
       "      <th>SaleCondition</th>\n",
       "      <th>SalePrice</th>\n",
       "    </tr>\n",
       "  </thead>\n",
       "  <tbody>\n",
       "    <tr>\n",
       "      <th>0</th>\n",
       "      <td>0</td>\n",
       "      <td>1</td>\n",
       "      <td>60</td>\n",
       "      <td>RL</td>\n",
       "      <td>65.0</td>\n",
       "      <td>8450</td>\n",
       "      <td>Pave</td>\n",
       "      <td>NaN</td>\n",
       "      <td>Reg</td>\n",
       "      <td>Lvl</td>\n",
       "      <td>...</td>\n",
       "      <td>0</td>\n",
       "      <td>NaN</td>\n",
       "      <td>NaN</td>\n",
       "      <td>NaN</td>\n",
       "      <td>0</td>\n",
       "      <td>2</td>\n",
       "      <td>2008</td>\n",
       "      <td>WD</td>\n",
       "      <td>Normal</td>\n",
       "      <td>12.247694</td>\n",
       "    </tr>\n",
       "    <tr>\n",
       "      <th>1</th>\n",
       "      <td>1</td>\n",
       "      <td>2</td>\n",
       "      <td>20</td>\n",
       "      <td>RL</td>\n",
       "      <td>80.0</td>\n",
       "      <td>9600</td>\n",
       "      <td>Pave</td>\n",
       "      <td>NaN</td>\n",
       "      <td>Reg</td>\n",
       "      <td>Lvl</td>\n",
       "      <td>...</td>\n",
       "      <td>0</td>\n",
       "      <td>NaN</td>\n",
       "      <td>NaN</td>\n",
       "      <td>NaN</td>\n",
       "      <td>0</td>\n",
       "      <td>5</td>\n",
       "      <td>2007</td>\n",
       "      <td>WD</td>\n",
       "      <td>Normal</td>\n",
       "      <td>12.109011</td>\n",
       "    </tr>\n",
       "  </tbody>\n",
       "</table>\n",
       "<p>2 rows × 82 columns</p>\n",
       "</div>"
      ],
      "text/plain": [
       "   index  Id  MSSubClass MSZoning  LotFrontage  LotArea Street Alley LotShape  \\\n",
       "0      0   1          60       RL         65.0     8450   Pave   NaN      Reg   \n",
       "1      1   2          20       RL         80.0     9600   Pave   NaN      Reg   \n",
       "\n",
       "  LandContour    ...     PoolArea PoolQC Fence MiscFeature MiscVal MoSold  \\\n",
       "0         Lvl    ...            0    NaN   NaN         NaN       0      2   \n",
       "1         Lvl    ...            0    NaN   NaN         NaN       0      5   \n",
       "\n",
       "  YrSold SaleType  SaleCondition  SalePrice  \n",
       "0   2008       WD         Normal  12.247694  \n",
       "1   2007       WD         Normal  12.109011  \n",
       "\n",
       "[2 rows x 82 columns]"
      ]
     },
     "execution_count": 13,
     "metadata": {},
     "output_type": "execute_result"
    }
   ],
   "source": [
    "total_data.head(2)"
   ]
  },
  {
   "cell_type": "code",
   "execution_count": 14,
   "metadata": {},
   "outputs": [],
   "source": [
    "#Removendo coluna de Id e Index, esta coluna atrapalharia em nosso modelo futuro\n",
    "total_data = total_data.drop(\"Id\", axis=1)\n",
    "total_data = total_data.drop(\"index\", axis=1)"
   ]
  },
  {
   "cell_type": "markdown",
   "metadata": {},
   "source": [
    "### Análise de dados fatantes"
   ]
  },
  {
   "cell_type": "code",
   "execution_count": 15,
   "metadata": {},
   "outputs": [
    {
     "name": "stdout",
     "output_type": "stream",
     "text": [
      "              Total   Percent\n",
      "PoolQC         2909  0.996574\n",
      "MiscFeature    2814  0.964029\n",
      "Alley          2721  0.932169\n",
      "Fence          2348  0.804385\n",
      "SalePrice      1459  0.499829\n",
      "FireplaceQu    1420  0.486468\n",
      "LotFrontage     486  0.166495\n",
      "GarageCond      159  0.054471\n",
      "GarageYrBlt     159  0.054471\n",
      "GarageQual      159  0.054471\n",
      "GarageFinish    159  0.054471\n",
      "GarageType      157  0.053786\n",
      "BsmtCond         82  0.028092\n",
      "BsmtExposure     82  0.028092\n",
      "BsmtQual         81  0.027749\n",
      "BsmtFinType2     80  0.027407\n",
      "BsmtFinType1     79  0.027064\n",
      "MasVnrType       24  0.008222\n",
      "MasVnrArea       23  0.007879\n",
      "MSZoning          4  0.001370\n",
      "Utilities         2  0.000685\n",
      "Functional        2  0.000685\n",
      "BsmtFullBath      2  0.000685\n",
      "BsmtHalfBath      2  0.000685\n",
      "GarageCars        1  0.000343\n",
      "BsmtFinSF2        1  0.000343\n",
      "Exterior2nd       1  0.000343\n",
      "GarageArea        1  0.000343\n",
      "TotalBsmtSF       1  0.000343\n",
      "BsmtUnfSF         1  0.000343\n",
      "BsmtFinSF1        1  0.000343\n",
      "Exterior1st       1  0.000343\n",
      "KitchenQual       1  0.000343\n",
      "SaleType          1  0.000343\n",
      "Electrical        1  0.000343\n",
      "LandContour       0  0.000000\n",
      "LotShape          0  0.000000\n",
      "Street            0  0.000000\n",
      "LotArea           0  0.000000\n",
      "YearRemodAdd      0  0.000000\n"
     ]
    }
   ],
   "source": [
    "#missing data\n",
    "set_analysed = total_data\n",
    "total = set_analysed.isnull().sum().sort_values(ascending=False)\n",
    "percent = (set_analysed.isnull().sum()/set_analysed.isnull().count()).sort_values(ascending=False)\n",
    "missing_data = pd.concat([total, percent], axis=1, keys=['Total', 'Percent'])\n",
    "print(missing_data.head(40))"
   ]
  },
  {
   "cell_type": "code",
   "execution_count": 16,
   "metadata": {},
   "outputs": [
    {
     "name": "stdout",
     "output_type": "stream",
     "text": [
      "Gd    3\n",
      "Fa    2\n",
      "Ex    2\n",
      "Name: PoolQC, dtype: int64\n"
     ]
    }
   ],
   "source": [
    "#\"PoolQC\"\n",
    "print(data_set[\"PoolQC\"].value_counts())\n",
    "total_data[\"PoolQC\"].fillna(\"NA\", inplace=True)"
   ]
  },
  {
   "cell_type": "code",
   "execution_count": 17,
   "metadata": {},
   "outputs": [
    {
     "name": "stdout",
     "output_type": "stream",
     "text": [
      "Shed    95\n",
      "Gar2     5\n",
      "Othr     4\n",
      "TenC     1\n",
      "Name: MiscFeature, dtype: int64\n"
     ]
    }
   ],
   "source": [
    "#\"MiscFeature\"\n",
    "print(total_data[\"MiscFeature\"].value_counts())\n",
    "#Por hora vamos dropar essa feature, mas uma ideia seria criar outras variaveis para Shed, Gar2, e TenC\n",
    "total_data = total_data.drop([\"MiscFeature\"], axis=1)"
   ]
  },
  {
   "cell_type": "code",
   "execution_count": 18,
   "metadata": {},
   "outputs": [
    {
     "name": "stdout",
     "output_type": "stream",
     "text": [
      "Grvl    120\n",
      "Pave     78\n",
      "Name: Alley, dtype: int64\n"
     ]
    }
   ],
   "source": [
    "#\"Alley\"\n",
    "print(total_data[\"Alley\"].value_counts())\n",
    "total_data[\"Alley\"].fillna(\"NA\", inplace=True)"
   ]
  },
  {
   "cell_type": "code",
   "execution_count": 19,
   "metadata": {},
   "outputs": [
    {
     "name": "stdout",
     "output_type": "stream",
     "text": [
      "MnPrv    329\n",
      "GdPrv    118\n",
      "GdWo     112\n",
      "MnWw      12\n",
      "Name: Fence, dtype: int64\n"
     ]
    }
   ],
   "source": [
    "#\"Fence\"\n",
    "print(total_data[\"Fence\"].value_counts())\n",
    "total_data[\"Fence\"].fillna(\"NA\", inplace=True)"
   ]
  },
  {
   "cell_type": "code",
   "execution_count": 20,
   "metadata": {},
   "outputs": [
    {
     "name": "stdout",
     "output_type": "stream",
     "text": [
      "Gd    744\n",
      "TA    592\n",
      "Fa     74\n",
      "Po     46\n",
      "Ex     43\n",
      "Name: FireplaceQu, dtype: int64\n"
     ]
    }
   ],
   "source": [
    "#\"FireplaceQu\"\n",
    "print(total_data[\"FireplaceQu\"].value_counts())\n",
    "total_data[\"FireplaceQu\"].fillna(\"NA\", inplace=True)"
   ]
  },
  {
   "cell_type": "code",
   "execution_count": 21,
   "metadata": {},
   "outputs": [],
   "source": [
    "#\"LotFrontage\"\n",
    "from LotFrontage import predictLotFrontage\n",
    "total_data[\"LotFrontage\"]=predictLotFrontage()"
   ]
  },
  {
   "cell_type": "code",
   "execution_count": 22,
   "metadata": {},
   "outputs": [],
   "source": [
    "#\"GarageCond\"\n",
    "#\"GarageFinish\"\n",
    "#\"GarageQual\"\n",
    "#\"GarageType\"\n",
    "total_data[\"GarageCond\"].fillna(\"NA\", inplace=True)\n",
    "total_data[\"GarageFinish\"].fillna(\"NA\", inplace=True)\n",
    "total_data[\"GarageQual\"].fillna(\"NA\", inplace=True)\n",
    "total_data[\"GarageType\"].fillna(\"NA\", inplace=True)"
   ]
  },
  {
   "cell_type": "code",
   "execution_count": 23,
   "metadata": {},
   "outputs": [],
   "source": [
    "#\"GarageYrBlt\"\n",
    "total_data = total_data.drop(\"GarageYrBlt\", axis=1) "
   ]
  },
  {
   "cell_type": "code",
   "execution_count": 24,
   "metadata": {},
   "outputs": [
    {
     "name": "stdout",
     "output_type": "stream",
     "text": [
      "2.0    1594\n",
      "1.0     776\n",
      "3.0     374\n",
      "0.0     158\n",
      "4.0      16\n",
      "5.0       1\n",
      "Name: GarageCars, dtype: int64\n"
     ]
    }
   ],
   "source": [
    "#total_data[[\"GarageFinish\",\"GarageQual\",\"GarageType\",\"GarageCond\"]].loc[total_data['GarageCars'].isnull()]\n",
    "total_data.at[2576,'GarageCars']=0\n",
    "print(total_data[\"GarageCars\"].value_counts())"
   ]
  },
  {
   "cell_type": "code",
   "execution_count": 25,
   "metadata": {},
   "outputs": [],
   "source": [
    "#\"BsmtExposure\", \"BsmtCond\", \"BsmtQual\", \"BsmtFinType2\", \"BsmtFinType1\"\n",
    "total_data[\"BsmtExposure\"].fillna(\"NA\", inplace=True)\n",
    "total_data[\"BsmtCond\"].fillna(\"NA\", inplace=True)\n",
    "total_data[\"BsmtQual\"].fillna(\"NA\", inplace=True)\n",
    "total_data[\"BsmtFinType2\"].fillna(\"NA\", inplace=True)\n",
    "total_data[\"BsmtFinType1\"].fillna(\"NA\", inplace=True)"
   ]
  },
  {
   "cell_type": "code",
   "execution_count": 26,
   "metadata": {},
   "outputs": [],
   "source": [
    "#\"MasVnrType\", \"MasVnrArea\"\n",
    "total_data[\"MasVnrType\"].fillna(\"NA\", inplace=True)\n",
    "total_data[\"MasVnrArea\"].fillna(0, inplace=True)"
   ]
  },
  {
   "cell_type": "code",
   "execution_count": 27,
   "metadata": {},
   "outputs": [
    {
     "name": "stdout",
     "output_type": "stream",
     "text": [
      "RL         2265\n",
      "RM          460\n",
      "FV          139\n",
      "RH           26\n",
      "C (all)      25\n",
      "Name: MSZoning, dtype: int64\n"
     ]
    }
   ],
   "source": [
    "#total_data.loc[total_data[\"MSZoning\"].isnull()].T\n",
    "print(total_data[\"MSZoning\"].value_counts())\n",
    "# ESTRATÉGIA ADOTADA, PREENCHER COM O MAIS COMUM\n",
    "total_data[\"MSZoning\"].fillna(\"RL\", inplace=True)\n",
    "#data['LotFrontage'].loc[data['LotFrontage'].isnull()].index"
   ]
  },
  {
   "cell_type": "code",
   "execution_count": 28,
   "metadata": {},
   "outputs": [
    {
     "name": "stdout",
     "output_type": "stream",
     "text": [
      "0.0    1705\n",
      "1.0    1172\n",
      "2.0      38\n",
      "3.0       2\n",
      "Name: BsmtFullBath, dtype: int64\n"
     ]
    }
   ],
   "source": [
    "print(total_data[\"BsmtFullBath\"].value_counts())\n",
    "# ESTRATÉGIA ADOTADA, PREENCHER COM O MAIS COMUM\n",
    "total_data[\"BsmtFullBath\"].fillna(0, inplace=True)"
   ]
  },
  {
   "cell_type": "code",
   "execution_count": 29,
   "metadata": {},
   "outputs": [
    {
     "name": "stdout",
     "output_type": "stream",
     "text": [
      "0.0    2742\n",
      "1.0     171\n",
      "2.0       4\n",
      "Name: BsmtHalfBath, dtype: int64\n"
     ]
    }
   ],
   "source": [
    "print(total_data[\"BsmtHalfBath\"].value_counts())\n",
    "# ESTRATÉGIA ADOTADA, PREENCHER COM O MAIS COMUM\n",
    "total_data[\"BsmtHalfBath\"].fillna(0, inplace=True)"
   ]
  },
  {
   "cell_type": "code",
   "execution_count": 30,
   "metadata": {},
   "outputs": [
    {
     "name": "stdout",
     "output_type": "stream",
     "text": [
      "AllPub    2916\n",
      "NoSeWa       1\n",
      "Name: Utilities, dtype: int64\n"
     ]
    }
   ],
   "source": [
    "print(total_data[\"Utilities\"].value_counts())\n",
    "#Variavel explica pouca variança no dataset, por isso a decisão de dropar esta feature\n",
    "total_data = total_data.drop(\"Utilities\", axis=1)"
   ]
  },
  {
   "cell_type": "code",
   "execution_count": 31,
   "metadata": {},
   "outputs": [
    {
     "name": "stdout",
     "output_type": "stream",
     "text": [
      "Typ     2717\n",
      "Min2      70\n",
      "Min1      65\n",
      "Mod       35\n",
      "Maj1      19\n",
      "Maj2       9\n",
      "Sev        2\n",
      "Name: Functional, dtype: int64\n"
     ]
    }
   ],
   "source": [
    "print(total_data[\"Functional\"].value_counts())\n",
    "# ESTRATÉGIA ADOTADA, PREENCHER COM O MAIS COMUM\n",
    "total_data[\"Functional\"].fillna(\"Typ\", inplace=True)"
   ]
  },
  {
   "cell_type": "code",
   "execution_count": 32,
   "metadata": {},
   "outputs": [
    {
     "name": "stdout",
     "output_type": "stream",
     "text": [
      "            2576\n",
      "GarageCars   0.0\n",
      "GarageArea   NaN\n"
     ]
    }
   ],
   "source": [
    "total_data[\"GarageArea\"].describe()\n",
    "print(total_data[[\"GarageCars\", \"GarageArea\"]].loc[total_data[\"GarageArea\"].isnull()].T)\n",
    "total_data[\"GarageArea\"].fillna(0, inplace=True)"
   ]
  },
  {
   "cell_type": "code",
   "execution_count": 33,
   "metadata": {},
   "outputs": [
    {
     "name": "stdout",
     "output_type": "stream",
     "text": [
      "           2120\n",
      "BsmtQual     NA\n",
      "BsmtFinSF2  NaN\n"
     ]
    }
   ],
   "source": [
    "#print(total_data[\"BsmtFinSF2\"].value_counts())\n",
    "print(total_data[[\"BsmtQual\", \"BsmtFinSF2\"]].loc[total_data[\"BsmtFinSF2\"].isnull()].T)\n",
    "total_data[\"BsmtFinSF2\"].fillna(0, inplace=True)"
   ]
  },
  {
   "cell_type": "code",
   "execution_count": 34,
   "metadata": {},
   "outputs": [
    {
     "name": "stdout",
     "output_type": "stream",
     "text": [
      "          2120\n",
      "BsmtQual    NA\n",
      "BsmtUnfSF  NaN\n"
     ]
    }
   ],
   "source": [
    "#BsmtUnfSF\n",
    "#print(total_data[\"BsmtUnfSF\"].value_counts())\n",
    "print(total_data[[\"BsmtQual\", \"BsmtUnfSF\"]].loc[total_data[\"BsmtUnfSF\"].isnull()].T)\n",
    "total_data[\"BsmtUnfSF\"].fillna(0, inplace=True)"
   ]
  },
  {
   "cell_type": "code",
   "execution_count": 35,
   "metadata": {},
   "outputs": [
    {
     "name": "stdout",
     "output_type": "stream",
     "text": [
      "            2120\n",
      "BsmtQual      NA\n",
      "TotalBsmtSF  NaN\n"
     ]
    }
   ],
   "source": [
    "print(total_data[[\"BsmtQual\", \"TotalBsmtSF\"]].loc[total_data[\"TotalBsmtSF\"].isnull()].T)\n",
    "total_data[\"TotalBsmtSF\"].fillna(0, inplace=True)"
   ]
  },
  {
   "cell_type": "code",
   "execution_count": 36,
   "metadata": {},
   "outputs": [
    {
     "name": "stdout",
     "output_type": "stream",
     "text": [
      "           2120\n",
      "BsmtQual     NA\n",
      "BsmtFinSF1  NaN\n"
     ]
    }
   ],
   "source": [
    "print(total_data[[\"BsmtQual\", \"BsmtFinSF1\"]].loc[total_data[\"BsmtFinSF1\"].isnull()].T)\n",
    "total_data[\"BsmtFinSF1\"].fillna(0, inplace=True)"
   ]
  },
  {
   "cell_type": "code",
   "execution_count": 37,
   "metadata": {},
   "outputs": [
    {
     "name": "stdout",
     "output_type": "stream",
     "text": [
      "SBrkr    2671\n",
      "FuseA     188\n",
      "FuseF      50\n",
      "FuseP       8\n",
      "Mix         1\n",
      "Name: Electrical, dtype: int64\n"
     ]
    }
   ],
   "source": [
    "print(total_data[\"Electrical\"].value_counts())\n",
    "total_data[\"Electrical\"].fillna(\"SBrkr\", inplace=True)"
   ]
  },
  {
   "cell_type": "code",
   "execution_count": 38,
   "metadata": {},
   "outputs": [
    {
     "data": {
      "image/png": "[encoded data removed]",
      "text/plain": [
       "<matplotlib.figure.Figure at 0x286176f3080>"
      ]
     },
     "metadata": {},
     "output_type": "display_data"
    }
   ],
   "source": [
    "#box plot Exterior1st/saleprice\n",
    "var = 'Exterior1st'\n",
    "Exterior2ndPLOT = pd.concat([(np.exp(data_set['SalePrice'])), data_set[var]], axis=1)\n",
    "f, ax = plt.subplots(figsize=(8, 6))\n",
    "fig = sns.boxplot(x=var, y=\"SalePrice\", data=Exterior2ndPLOT)\n",
    "fig.axis(ymin=0, ymax=800000);"
   ]
  },
  {
   "cell_type": "code",
   "execution_count": 39,
   "metadata": {},
   "outputs": [
    {
     "name": "stdout",
     "output_type": "stream",
     "text": [
      "VinylSd    1025\n",
      "MetalSd     450\n",
      "HdBoard     442\n",
      "Wd Sdng     411\n",
      "Plywood     221\n",
      "CemntBd     126\n",
      "BrkFace      87\n",
      "WdShing      56\n",
      "AsbShng      44\n",
      "Stucco       43\n",
      "BrkComm       6\n",
      "Stone         2\n",
      "AsphShn       2\n",
      "CBlock        2\n",
      "ImStucc       1\n",
      "Name: Exterior1st, dtype: int64\n"
     ]
    }
   ],
   "source": [
    "print(total_data['Exterior1st'].value_counts())\n",
    "#ESTRATÉGIA ADOTADA, PREENCHER COM O MAIS COMUM\n",
    "total_data['Exterior1st'].fillna(\"VinylSd\", inplace=True)"
   ]
  },
  {
   "cell_type": "code",
   "execution_count": 40,
   "metadata": {},
   "outputs": [
    {
     "name": "stdout",
     "output_type": "stream",
     "text": [
      "VinylSd    1014\n",
      "MetalSd     447\n",
      "HdBoard     406\n",
      "Wd Sdng     391\n",
      "Plywood     270\n",
      "CmentBd     126\n",
      "Wd Shng      81\n",
      "BrkFace      47\n",
      "Stucco       47\n",
      "AsbShng      38\n",
      "Brk Cmn      22\n",
      "ImStucc      15\n",
      "Stone         6\n",
      "AsphShn       4\n",
      "CBlock        3\n",
      "Other         1\n",
      "Name: Exterior2nd, dtype: int64\n"
     ]
    }
   ],
   "source": [
    "print(total_data['Exterior2nd'].value_counts())\n",
    "#ESTRATÉGIA ADOTADA, PREENCHER COM O MAIS COMUM\n",
    "total_data['Exterior2nd'].fillna(\"VinylSd\", inplace=True)"
   ]
  },
  {
   "cell_type": "code",
   "execution_count": 41,
   "metadata": {},
   "outputs": [
    {
     "name": "stdout",
     "output_type": "stream",
     "text": [
      "TA    1492\n",
      "Gd    1151\n",
      "Ex     205\n",
      "Fa      70\n",
      "Name: KitchenQual, dtype: int64\n"
     ]
    }
   ],
   "source": [
    "print(total_data[\"KitchenQual\"].value_counts())\n",
    "total_data[\"KitchenQual\"].fillna(\"TA\", inplace=True)"
   ]
  },
  {
   "cell_type": "code",
   "execution_count": 42,
   "metadata": {},
   "outputs": [
    {
     "name": "stdout",
     "output_type": "stream",
     "text": [
      "WD       2525\n",
      "New       239\n",
      "COD        87\n",
      "ConLD      26\n",
      "CWD        12\n",
      "ConLI       9\n",
      "ConLw       8\n",
      "Oth         7\n",
      "Con         5\n",
      "Name: SaleType, dtype: int64\n"
     ]
    }
   ],
   "source": [
    "print(total_data[\"SaleType\"].value_counts())\n",
    "total_data[\"SaleType\"].fillna(\"WD\", inplace=True)"
   ]
  },
  {
   "cell_type": "markdown",
   "metadata": {},
   "source": [
    "#### Verificando se conseguimos eliminar todos os dados faltantes"
   ]
  },
  {
   "cell_type": "code",
   "execution_count": 43,
   "metadata": {},
   "outputs": [
    {
     "name": "stdout",
     "output_type": "stream",
     "text": [
      "            Total   Percent\n",
      "SalePrice    1459  0.499829\n",
      "Foundation      0  0.000000\n"
     ]
    }
   ],
   "source": [
    "#missing data\n",
    "set_analysed = total_data\n",
    "total = set_analysed.isnull().sum().sort_values(ascending=False)\n",
    "percent = (set_analysed.isnull().sum()/set_analysed.isnull().count()).sort_values(ascending=False)\n",
    "missing_data = pd.concat([total, percent], axis=1, keys=['Total', 'Percent'])\n",
    "print(missing_data.head(2))"
   ]
  },
  {
   "cell_type": "markdown",
   "metadata": {},
   "source": [
    "#### Ajustando alguns dados numéricos para categoricos"
   ]
  },
  {
   "cell_type": "code",
   "execution_count": 46,
   "metadata": {},
   "outputs": [
    {
     "data": {
      "text/plain": [
       "20     1079\n",
       "60      575\n",
       "50      287\n",
       "120     182\n",
       "30      139\n",
       "160     128\n",
       "70      128\n",
       "80      118\n",
       "90      109\n",
       "190      61\n",
       "85       48\n",
       "75       23\n",
       "45       18\n",
       "180      17\n",
       "40        6\n",
       "150       1\n",
       "Name: MSSubClass, dtype: int64"
      ]
     },
     "execution_count": 46,
     "metadata": {},
     "output_type": "execute_result"
    }
   ],
   "source": [
    "total_data['MSSubClass'].value_counts()"
   ]
  },
  {
   "cell_type": "code",
   "execution_count": 47,
   "metadata": {},
   "outputs": [],
   "source": [
    "#Year and month sold are transformed into categorical features.\n",
    "# Descrição: YrSold: Year Sold (YYYY)\n",
    "total_data['YrSold']=total_data['YrSold'].astype(str)\n",
    "# Descrição: MoSold: Month Sold (MM)\n",
    "total_data['MoSold']=total_data['MoSold'].astype(str)\n",
    "# Descrição: Identifies the type of dwelling involved in the sale.\n",
    "total_data['MSSubClass']=total_data['MSSubClass'].astype(str)"
   ]
  },
  {
   "cell_type": "markdown",
   "metadata": {},
   "source": [
    "#### Transdormando categorial features em dummie variables"
   ]
  },
  {
   "cell_type": "code",
   "execution_count": 48,
   "metadata": {},
   "outputs": [],
   "source": [
    "total_data=pd.get_dummies(total_data)"
   ]
  },
  {
   "cell_type": "markdown",
   "metadata": {},
   "source": [
    "#### Vamos salvar nossos dados pré-processados caso quisermos reutilizalos em outro momento"
   ]
  },
  {
   "cell_type": "code",
   "execution_count": 49,
   "metadata": {},
   "outputs": [],
   "source": [
    "preprocessed_total_data = total_data\n",
    "#print(preprocessed_total_data)\n",
    "#Salvando dados em formato CSV\n",
    "preprocessed_total_data.to_csv(\"preprocessed_data.csv\", sep=',')"
   ]
  },
  {
   "cell_type": "code",
   "execution_count": 50,
   "metadata": {},
   "outputs": [
    {
     "name": "stdout",
     "output_type": "stream",
     "text": [
      "(1460, 326)\n",
      "(1459, 326)\n"
     ]
    }
   ],
   "source": [
    "#Separando o data_set e o submission_set\n",
    "preprocessed_data_set = preprocessed_total_data.iloc[:1460, :]\n",
    "preprocessed_submission_set = preprocessed_total_data.iloc[1460:,:]\n",
    "print(preprocessed_data_set.shape)\n",
    "print(preprocessed_submission_set.shape)"
   ]
  },
  {
   "cell_type": "markdown",
   "metadata": {},
   "source": [
    "#### Dividindo as features e target em train e test set"
   ]
  },
  {
   "cell_type": "code",
   "execution_count": 51,
   "metadata": {},
   "outputs": [],
   "source": [
    "y = preprocessed_data_set['SalePrice']\n",
    "X = preprocessed_data_set.drop(labels='SalePrice', axis=1)"
   ]
  },
  {
   "cell_type": "markdown",
   "metadata": {},
   "source": [
    "# Modelos"
   ]
  },
  {
   "cell_type": "markdown",
   "metadata": {},
   "source": [
    "## Definindo medidas de performance"
   ]
  },
  {
   "cell_type": "code",
   "execution_count": 58,
   "metadata": {},
   "outputs": [],
   "source": [
    "from sklearn.model_selection import KFold, cross_val_score\n",
    "from sklearn.metrics import mean_squared_error, mean_squared_log_error, r2_score\n",
    "def RMSE_score(model, X, y):\n",
    "    kfold = KFold(3, shuffle=True, random_state=42).get_n_splits(X.values)\n",
    "    RMSE = np.sqrt(-cross_val_score(model, X.values, y, scoring=\"neg_mean_squared_error\", cv = kfold))\n",
    "    return(RMSE)\n",
    "\n",
    "def R2_score(model, X, y):\n",
    "    kfold = KFold(3, shuffle=True, random_state=42).get_n_splits(X.values)\n",
    "    R2 = (cross_val_score(model, X.values, y, scoring=\"r2\", cv = kfold))\n",
    "    return(R2)"
   ]
  },
  {
   "cell_type": "markdown",
   "metadata": {},
   "source": [
    "## Treinando os modelos"
   ]
  },
  {
   "cell_type": "code",
   "execution_count": 59,
   "metadata": {},
   "outputs": [],
   "source": [
    "#impotando modelos descritos nas propostas\n",
    "from sklearn.linear_model import LinearRegression\n",
    "from sklearn.preprocessing import PolynomialFeatures\n",
    "from sklearn.svm import SVR\n",
    "from sklearn.linear_model import SGDRegressor\n",
    "from sklearn.tree import DecisionTreeRegressor\n",
    "from sklearn.ensemble import GradientBoostingRegressor\n",
    "\n",
    "from sklearn.model_selection import GridSearchCV, KFold, cross_val_score\n",
    "from sklearn.preprocessing import StandardScaler"
   ]
  },
  {
   "cell_type": "markdown",
   "metadata": {},
   "source": [
    "### LinearRegression"
   ]
  },
  {
   "cell_type": "code",
   "execution_count": 74,
   "metadata": {},
   "outputs": [
    {
     "name": "stdout",
     "output_type": "stream",
     "text": [
      "{'fit_intercept': False, 'normalize': False}\n"
     ]
    }
   ],
   "source": [
    "#Definindo o modelo e aplicando GridScearchCV\n",
    "regressorLinearRegression = LinearRegression()\n",
    "\n",
    "parameters = [{'fit_intercept': [True, False],\n",
    "              'normalize': [False, True]}]\n",
    "\n",
    "grid_search = GridSearchCV(estimator = regressorLinearRegression,\n",
    "                           param_grid = parameters,\n",
    "                           scoring = 'neg_mean_squared_error',\n",
    "                           cv = 3,\n",
    "                           n_jobs = -1)\n",
    "\n",
    "grid_search = grid_search.fit(X, y)\n",
    "best_parameters = grid_search.best_params_\n",
    "print(best_parameters)"
   ]
  },
  {
   "cell_type": "code",
   "execution_count": 75,
   "metadata": {},
   "outputs": [
    {
     "name": "stdout",
     "output_type": "stream",
     "text": [
      "LinearRegression RMSE score: 0.1536 (0.0064), R2 score 0.8510 (0.0188)\n",
      "\n"
     ]
    }
   ],
   "source": [
    "regressorLinearRegression = LinearRegression(fit_intercept=False, normalize=False)\n",
    "model = regressorLinearRegression\n",
    "RMSE = RMSE_score(regressorLinearRegression, X, y)\n",
    "R2 = R2_score(regressorLinearRegression, X, y)\n",
    "print(\"LinearRegression RMSE score: {:.4f} ({:.4f}), R2 score {:.4f} ({:.4f})\\n\".format(RMSE.mean(), RMSE.std(), R2.mean(), R2.std()))"
   ]
  },
  {
   "cell_type": "markdown",
   "metadata": {},
   "source": [
    "### PolinomialRegression (LinearRegression with PolynomialFeatures)"
   ]
  },
  {
   "cell_type": "code",
   "execution_count": 65,
   "metadata": {},
   "outputs": [
    {
     "name": "stdout",
     "output_type": "stream",
     "text": [
      "{'fit_intercept': True, 'normalize': True}\n",
      "Polinomial Regression RMSE score: 0.1497 (0.0108), R2 score 0.8592 (0.0145)\n",
      "\n"
     ]
    }
   ],
   "source": [
    "# Feature Scaling\n",
    "sc = StandardScaler()\n",
    "X_scaled = sc.fit_transform(X)\n",
    "\n",
    "# Para que possamos trabalhar com PolynomialFeatures será necessário reduzir o tamanho no nosso dataset,\n",
    "# para isso uma possivel solução é aplicar PCA\n",
    "\n",
    "from sklearn.decomposition import PCA\n",
    "pca = PCA(n_components = 9)\n",
    "X_PCA = pca.fit_transform(X_scaled)\n",
    "\n",
    "#Aplicando PolynomialFeatures\n",
    "poly_reg = PolynomialFeatures(degree = 2, interaction_only=False)\n",
    "X_poly = poly_reg.fit_transform(X_PCA)\n",
    "\n",
    "#Definindo o modelo e aplicando GridScearchCV\n",
    "regressor = LinearRegression()\n",
    "\n",
    "parameters = [{'fit_intercept': [True, False],\n",
    "              'normalize': [False, True]}]\n",
    "\n",
    "grid_search = GridSearchCV(estimator = regressor,\n",
    "                           param_grid = parameters,\n",
    "                           scoring = 'neg_mean_squared_error',\n",
    "                           cv = 3,\n",
    "                           n_jobs = -1)\n",
    "\n",
    "grid_search = grid_search.fit(X_poly, y)\n",
    "best_parameters = grid_search.best_params_\n",
    "print(best_parameters)\n",
    "\n",
    "regressorPolinomialRegression = LinearRegression(best_parameters)\n",
    "model = regressorPolinomialRegression\n",
    "\n",
    "RMSE = RMSE_score(model, pd.DataFrame(X_poly), y)\n",
    "R2 = R2_score(model, pd.DataFrame(X_poly), y)\n",
    "print(\"Polinomial Regression RMSE score: {:.4f} ({:.4f}), R2 score {:.4f} ({:.4f})\\n\".format(RMSE.mean(), RMSE.std(), R2.mean(), R2.std()))"
   ]
  },
  {
   "cell_type": "markdown",
   "metadata": {},
   "source": [
    "### SVR\n",
    "Para este modelo é muito importanto aplicar um Scaler portanto aplicaremos oconjunto X_scaled, já utilizado no modelo Polinomial."
   ]
  },
  {
   "cell_type": "code",
   "execution_count": null,
   "metadata": {
    "scrolled": true
   },
   "outputs": [],
   "source": [
    "#Definindo o modelo e aplicando GridScearchCV\n",
    "from sklearn.model_selection import GridSearchCV\n",
    "regressor = SVR()\n",
    "\n",
    "parameters = {'C': [1, 10, 100, 1000], 'kernel': ['rbf'], 'gamma': [0.00001, 0.0001, 0.001, 0.01, 0.1]}\n",
    "\n",
    "grid_search = GridSearchCV(estimator = regressor,\n",
    "                           param_grid = parameters,\n",
    "                           scoring = 'neg_mean_squared_error',\n",
    "                           cv = 5,\n",
    "                           n_jobs = -1)\n",
    "\n",
    "grid_search = grid_search.fit(X_scaled, y)\n",
    "best_parameters = grid_search.best_params_\n",
    "print(best_parameters)"
   ]
  },
  {
   "cell_type": "code",
   "execution_count": null,
   "metadata": {},
   "outputs": [],
   "source": [
    "regressorSVR = SVR(kernel='rbf', gamma = 0.0001, C=1)\n",
    "model = regressorSVR\n",
    "\n",
    "RMSE = RMSE_score(model, pd.DataFrame(X_scaled), y)\n",
    "R2 = R2_score(model, pd.DataFrame(X_scaled), y)\n",
    "print(\"regressorSVR RMSE score: {:.4f} ({:.4f}), R2 score {:.4f} ({:.4f})\\n\".format(RMSE.mean(), RMSE.std(), R2.mean(), R2.std()))"
   ]
  },
  {
   "cell_type": "markdown",
   "metadata": {},
   "source": [
    "### SGDRegressor"
   ]
  },
  {
   "cell_type": "code",
   "execution_count": null,
   "metadata": {},
   "outputs": [],
   "source": [
    "#Definindo o modelo e aplicando GridScearchCV\n",
    "from sklearn.model_selection import GridSearchCV\n",
    "\n",
    "regressor = SGDRegressor()\n",
    "\n",
    "parameters = {'random_state':[42],\n",
    "              'alpha':[0.1, 0.2, 0.3, 0.4, 0.5, 0.6, 0.7, 0.8, 0.9, 1],\n",
    "              'fit_intercept':[True, False],\n",
    "              'max_iter':[1000],\n",
    "              'learning_rate':['constant', 'optimal', 'invscaling']}\n",
    "\n",
    "grid_search = GridSearchCV(estimator = regressor,\n",
    "                           param_grid = parameters,\n",
    "                           scoring = 'neg_mean_squared_error',\n",
    "                           cv = 5,\n",
    "                           n_jobs = -1)\n",
    "\n",
    "grid_search = grid_search.fit(X_scaled, y)\n",
    "best_parameters = grid_search.best_params_\n",
    "print(best_parameters)"
   ]
  },
  {
   "cell_type": "code",
   "execution_count": null,
   "metadata": {},
   "outputs": [],
   "source": [
    "regressorSGDRegressor = SGDRegressor(alpha= 0.4, fit_intercept= True, learning_rate= 'invscaling', max_iter= 1000, random_state= 42)\n",
    "\n",
    "model = regressorSGDRegressor\n",
    "\n",
    "RMSE = RMSE_score(model, pd.DataFrame(X_scaled), y)\n",
    "R2 = R2_score(model, pd.DataFrame(X_scaled), y)\n",
    "print(\"SGDRegressor RMSE score: {:.4f} ({:.4f}), R2 score {:.4f} ({:.4f})\\n\".format(RMSE.mean(), RMSE.std(), R2.mean(), R2.std()))"
   ]
  },
  {
   "cell_type": "markdown",
   "metadata": {},
   "source": [
    "### DecisionTreeRegressor"
   ]
  },
  {
   "cell_type": "code",
   "execution_count": null,
   "metadata": {},
   "outputs": [],
   "source": [
    "regressor = DecisionTreeRegressor()\n",
    "\n",
    "parameters = {'random_state': [42],\n",
    "              'max_depth': [15,20,25],\n",
    "              'max_features' : ['auto', 'sqrt', 'log2', None],\n",
    "              'min_samples_split': [2,3,4],\n",
    "              'min_samples_leaf': [5,10,15]}\n",
    "\n",
    "\n",
    "\n",
    "grid_search = GridSearchCV(estimator = regressor,\n",
    "                           param_grid = parameters,\n",
    "                           scoring = 'neg_mean_squared_error',\n",
    "                           cv = 3,\n",
    "                           n_jobs = -1)\n",
    "\n",
    "grid_search = grid_search.fit(X, y)\n",
    "best_parameters = grid_search.best_params_\n",
    "print(best_parameters)"
   ]
  },
  {
   "cell_type": "code",
   "execution_count": null,
   "metadata": {},
   "outputs": [],
   "source": [
    "regressorDecisionTreeRegressor = DecisionTreeRegressor(max_depth = 15,\n",
    "                                              max_features= 'auto',\n",
    "                                              min_samples_leaf= 10,\n",
    "                                              min_samples_split= 2,\n",
    "                                              random_state= 42)\n",
    "\n",
    "model = regressorDecisionTreeRegressor\n",
    "RMSE = RMSE_score(model, X, y)\n",
    "R2 = R2_score(model, X, y)\n",
    "print(\"DecisionTreeRegressor RMSE score: {:.4f} ({:.4f}), R2 score {:.4f} ({:.4f})\\n\".format(RMSE.mean(), RMSE.std(), R2.mean(), R2.std()))"
   ]
  },
  {
   "cell_type": "markdown",
   "metadata": {},
   "source": [
    "### GradientBoostingRegressor"
   ]
  },
  {
   "cell_type": "code",
   "execution_count": null,
   "metadata": {},
   "outputs": [],
   "source": [
    "#Definindo o modelo e aplicando GridScearchCV\n",
    "from sklearn.model_selection import GridSearchCV\n",
    "\n",
    "regressor = GradientBoostingRegressor()\n",
    "\n",
    "parameters = {'random_state': [42],\n",
    "              'learning_rate': [0.1],\n",
    "              'n_estimators': [100, 200, 300],\n",
    "              'subsample': [0.5, 0.7, 1],\n",
    "              'max_depth': [2,3,4],\n",
    "              'min_samples_split': [6,7,10],\n",
    "              'min_samples_leaf': [1,2,3]}\n",
    "\n",
    "grid_search = GridSearchCV(estimator = regressor,\n",
    "                           param_grid = parameters,\n",
    "                           scoring = 'neg_mean_squared_error',\n",
    "                           cv = 3,\n",
    "                           n_jobs = 4)\n",
    "\n",
    "grid_search = grid_search.fit(X, y)\n",
    "best_parameters = grid_search.best_params_\n",
    "print(best_parameters)"
   ]
  },
  {
   "cell_type": "code",
   "execution_count": null,
   "metadata": {},
   "outputs": [],
   "source": [
    "from sklearn.ensemble import GradientBoostingRegressor\n",
    "from sklearn.model_selection import GridSearchCV\n",
    "\n",
    "regressorGradientBoostingRegressor = GradientBoostingRegressor(random_state=42,\n",
    "                                      max_features=None,                         \n",
    "                                      learning_rate=0.1,\n",
    "                                      max_depth=3,\n",
    "                                      min_samples_leaf=2,\n",
    "                                      min_samples_split=7,\n",
    "                                      n_estimators=200,\n",
    "                                      subsample=0.70)\n",
    "model = regressorGradientBoostingRegressor\n",
    "\n",
    "RMSE = RMSE_score(model, pd.DataFrame(X), y)\n",
    "R2 = R2_score(model, pd.DataFrame(X), y)\n",
    "print(\"GradientBoostingRegressor RMSE score: {:.4f} ({:.4f}), R2 score {:.4f} ({:.4f})\\n\".format(RMSE.mean(), RMSE.std(), R2.mean(), R2.std()))"
   ]
  },
  {
   "cell_type": "markdown",
   "metadata": {},
   "source": [
    "Analisando os resultados dos modelos obtidos pelo CrossValidation, observamos que:\n",
    "\n",
    "- em MSE o melhor modelo é o GradientBoostingRegressor com o RMSE score de 0.1230\n",
    "\n",
    "- em R^2 o melhor modelo é o GradientBoostingRegressor com R2 score de 0.9046\n",
    "\n",
    "Sendo assim vamos aplicar o GradientBoostingRegressor no test_set do Kaggle."
   ]
  },
  {
   "cell_type": "code",
   "execution_count": null,
   "metadata": {},
   "outputs": [],
   "source": [
    "#Dropando a coluna target do dataset\n",
    "X_preprocessed_submission_set=preprocessed_submission_set.drop(columns='SalePrice', axis=1)"
   ]
  },
  {
   "cell_type": "code",
   "execution_count": null,
   "metadata": {},
   "outputs": [],
   "source": [
    "#Realizando previsões com o GradientBoostingRegressor\n",
    "regressorGradientBoostingRegressor.fit(X, y)\n",
    "pred_GradientBoostingRegressor = regressorGradientBoostingRegressor.predict(X_preprocessed_submission_set)"
   ]
  },
  {
   "cell_type": "code",
   "execution_count": null,
   "metadata": {},
   "outputs": [],
   "source": [
    "#exportando predições do modelo GradientBoostingRegressor\n",
    "predicts = pd.DataFrame(data=predict_test, columns=['SalePrice'])\n",
    "\n",
    "predicts.index += 1461\n",
    "predicts.index.name = \"Id\"\n",
    "\n",
    "#Exportanto previsões performance\n",
    "predicts.to_csv(\"predicts_GradientBoostingRegressor.csv\", sep=',')"
   ]
  },
  {
   "cell_type": "markdown",
   "metadata": {},
   "source": [
    "Agora seguindo a proposta vamos tentar combinar alguns modelos com a ensemble method \"Weighted Avegaring\"\n",
    "Os modelos combinados serão os 2 melhores modelos, GradientBoostingRegressor e SGDRegressor, os demais não serão combinados devido ao baixo desempenho."
   ]
  },
  {
   "cell_type": "code",
   "execution_count": null,
   "metadata": {},
   "outputs": [],
   "source": [
    "#Realizando previsões com o SGDRegressor\n",
    "pred_SGDRegressor = regressorSGDRegressor.predict(X_preprocessed_submission_set_scaled)\n",
    "regressorDecisionTreeRegressor.fit(X,y)\n",
    "\n",
    "#Realizando previsões com o GradientBoostingRegressor\n",
    "regressorGradientBoostingRegressor.fit(X, y)\n",
    "pred_GradientBoostingRegressor = regressorGradientBoostingRegressor.predict(X_preprocessed_submission_set)"
   ]
  },
  {
   "cell_type": "markdown",
   "metadata": {},
   "source": [
    "Combinando as predições"
   ]
  },
  {
   "cell_type": "code",
   "execution_count": null,
   "metadata": {},
   "outputs": [],
   "source": [
    "esemble_pred = ((0.20*pred_SGDRegressor) +\n",
    "                (0.80*pred_GradientBoostingRegressor))"
   ]
  },
  {
   "cell_type": "code",
   "execution_count": null,
   "metadata": {},
   "outputs": [],
   "source": [
    "#exportando predições do modelo esemble\n",
    "\n",
    "predicts = pd.DataFrame(data=np.exp(esemble_pred), columns = ['SalePrice'] )\n",
    "\n",
    "predicts.index += 1461 \n",
    "predicts.index.name = \"Id\"\n",
    "\n",
    "#Exportanto previsões performance\n",
    "predicts.to_csv(\"predicts_esemble.csv\", sep=',')"
   ]
  },
  {
   "cell_type": "markdown",
   "metadata": {},
   "source": [
    "Submentendo os dois arquivos no Kaggle...\n",
    "\n",
    "Resultado! Conforme o score do kaggle apresentado abaixo, o resultado do modelo esemblo foi supeior ao GradientBoostingRegressor!"
   ]
  },
  {
   "cell_type": "code",
   "execution_count": null,
   "metadata": {},
   "outputs": [],
   "source": [
    "from IPython.display import Image\n",
    "Image(filename='img/kagglescore.png', width=850, height=400)"
   ]
  },
  {
   "cell_type": "markdown",
   "metadata": {},
   "source": [
    "# Benchmark"
   ]
  },
  {
   "cell_type": "markdown",
   "metadata": {},
   "source": [
    "### Modelo 1 - Regressão Linear Simples"
   ]
  },
  {
   "cell_type": "markdown",
   "metadata": {},
   "source": [
    "- LinearRegression RMSE score: 0.1536 (0.0064), R2 score 0.8510 (0.0188)\n",
    "\n",
    "\n",
    "- Polinomial Regression RMSE score: 0.1507 (0.0104), R2 score 0.8573 (0.0138)\n",
    "- regressorSVR RMSE score: 0.1398 (0.0088), R2 score 0.8770 (0.0132)\n",
    "- SGDRegressor RMSE score: 0.1385 (0.0115), R2 score 0.8784 (0.0215)\n",
    "- DecisionTreeRegressor RMSE score: 0.1826 (0.0018), R2 score 0.7901 (0.0124)\n",
    "- GradientBoostingRegressor RMSE score: 0.1230 (0.0087), R2 score 0.9046 (0.0117)"
   ]
  },
  {
   "cell_type": "markdown",
   "metadata": {},
   "source": [
    "Todos os modelos aqui apresentados superaram o benchmark do modelo de regressão linear simples proposto como um dos benchmarks para este estudo."
   ]
  },
  {
   "cell_type": "markdown",
   "metadata": {},
   "source": [
    "### Modelo 2 - Kaggle leaderboard"
   ]
  },
  {
   "cell_type": "markdown",
   "metadata": {},
   "source": [
    "Apesar da combinação dos modelos GradientBoostingRegressor e SGDRegressor ter gerado um desempenho superior no kaggle do que o de um modelo único, melhor resultado obtido rendeu uma posição entre os 39% melhores nesta competição o que é bem abaixo das minhas espectativas."
   ]
  },
  {
   "cell_type": "code",
   "execution_count": null,
   "metadata": {},
   "outputs": [],
   "source": [
    "from IPython.display import Image\n",
    "Image(filename='img/esemble_submission.png', width=850, height=400)"
   ]
  },
  {
   "cell_type": "markdown",
   "metadata": {},
   "source": [
    "# Conclusão"
   ]
  },
  {
   "cell_type": "markdown",
   "metadata": {},
   "source": [
    "Observamos neste projeto que para se obter o valor de venda de um imóvel, além do modelo de regressão linear\n",
    "como sugere a norma de avaliação de bens NBR 14653, também é possível utilizar outras técnicas de regressão,\n",
    "com destaque para GradientBoostingRegressor que demostrou ter o melhor desempenho dentre os algoritmos testados.\n",
    "\n",
    "\n",
    "Considerações quanto ao desempenho (pontuação do Kaggle) do modelo esemble gerado, durante o desenvolvimento deste trabalho\n",
    "percebi que poderia ter escolhido outras técnicas de regressão mais apropriadas, como LASSO Regression e Elastic Net Regression, que observando no fórum da competição são amplamente utilizadas, assim levanto a hipotese que com estes modelos poderia criar um modelo esemble mais poderoso.\n",
    "\n",
    "Encontrei outro imprevisto, como por exemplo ao aplicar oa função PolinomialFeatures do Scikit-Learn, o número de features geradas era tão grande que excedia a memoria do computador por isso foi necessário aplicar PCA.\n"
   ]
  },
  {
   "cell_type": "code",
   "execution_count": null,
   "metadata": {},
   "outputs": [],
   "source": []
  }
 ],
 "metadata": {
  "kernelspec": {
   "display_name": "Python 3",
   "language": "python",
   "name": "python3"
  },
  "language_info": {
   "codemirror_mode": {
    "name": "ipython",
    "version": 3
   },
   "file_extension": ".py",
   "mimetype": "text/x-python",
   "name": "python",
   "nbconvert_exporter": "python",
   "pygments_lexer": "ipython3",
   "version": "3.6.4"
  }
 },
 "nbformat": 4,
 "nbformat_minor": 2
}
